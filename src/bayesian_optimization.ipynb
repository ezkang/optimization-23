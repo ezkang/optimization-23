{
 "cells": [
  {
   "cell_type": "code",
   "execution_count": 44,
   "metadata": {},
   "outputs": [],
   "source": [
    "from IPython.core.interactiveshell import InteractiveShell\n",
    "InteractiveShell.ast_node_interactivity = \"all\"\n",
    "\n",
    "import warnings\n",
    "import copy\n",
    "import requests\n",
    "from concurrent.futures import ThreadPoolExecutor\n",
    "\n",
    "from bs4 import BeautifulSoup\n",
    "\n",
    "import pandas as pd\n",
    "import numpy as np\n",
    "from scipy.interpolate import interp1d\n",
    "from pypfopt.expected_returns import ema_historical_return, capm_return\n",
    "from pypfopt.risk_models import exp_cov, fix_nonpositive_semidefinite, CovarianceShrinkage\n",
    "from pypfopt.efficient_frontier import EfficientFrontier\n",
    "from pypfopt import objective_functions\n",
    "from pypfopt import base_optimizer\n",
    "import optuna\n",
    "\n",
    "import matplotlib.pyplot as plt\n",
    "import matplotlib as mpl\n",
    "import seaborn as sns\n",
    "import utils as ut"
   ]
  },
  {
   "attachments": {},
   "cell_type": "markdown",
   "metadata": {},
   "source": [
    "## Global Settings"
   ]
  },
  {
   "cell_type": "code",
   "execution_count": 2,
   "metadata": {},
   "outputs": [],
   "source": [
    "seed = 1227\n",
    "rs = np.random.RandomState(seed)\n",
    "\n",
    "mpl.style.use('fivethirtyeight')\n",
    "plt.rcParams['figure.figsize'] = (12, 8)\n",
    "\n",
    "warnings.filterwarnings('ignore')"
   ]
  },
  {
   "attachments": {},
   "cell_type": "markdown",
   "metadata": {},
   "source": [
    "## Data"
   ]
  },
  {
   "cell_type": "code",
   "execution_count": 3,
   "metadata": {},
   "outputs": [
    {
     "data": {
      "text/plain": [
       "((1259, 30), (332, 30), (1259, 1))"
      ]
     },
     "execution_count": 3,
     "metadata": {},
     "output_type": "execute_result"
    }
   ],
   "source": [
    "in_sample_data = pd.read_parquet('../data/in_sample_data.parquet')\n",
    "out_sample_data = pd.read_parquet('../data/out_sample_data.parquet')\n",
    "sp_500 = pd.read_csv('../data/sp_500.csv', index_col=0)\n",
    "\n",
    "in_sample_data.shape, out_sample_data.shape, sp_500.shape"
   ]
  },
  {
   "attachments": {},
   "cell_type": "markdown",
   "metadata": {},
   "source": [
    "We create a dictionary of ticker-sector key value pairs for use later when we add sector constraints:"
   ]
  },
  {
   "cell_type": "code",
   "execution_count": 4,
   "metadata": {},
   "outputs": [
    {
     "data": {
      "text/plain": [
       "{'AAPL': 'Technology',\n",
       " 'AMZN': 'Retail',\n",
       " 'BIIB': 'Healthcare',\n",
       " 'CMCSA': 'Telecom',\n",
       " 'CME': 'Financial Services',\n",
       " 'COST': 'Retail',\n",
       " 'CSCO': 'Technology',\n",
       " 'EA': 'Technology',\n",
       " 'EBAY': 'Retail',\n",
       " 'GOOG': 'Technology',\n",
       " 'HD': 'Retail',\n",
       " 'HON': 'Manufacturing',\n",
       " 'INTC': 'Technology',\n",
       " 'JPM': 'Financial Services',\n",
       " 'LULU': 'Retail',\n",
       " 'META': 'Technology',\n",
       " 'MSFT': 'Technology',\n",
       " 'NFLX': 'Media & Entertainment',\n",
       " 'NVDA': 'Technology',\n",
       " 'ORLY': 'Consumer Discretionary',\n",
       " 'PEP': 'Consumer Staples',\n",
       " 'PFE': 'Healthcare',\n",
       " 'PYPL': 'Technology',\n",
       " 'QCOM': 'Technology',\n",
       " 'SBUX': 'Consumer Discretionary',\n",
       " 'TSLA': 'Consumer Discretionary',\n",
       " 'TXN': 'Technology',\n",
       " 'VRTX': 'Healthcare',\n",
       " 'WDAY': 'Technology',\n",
       " 'XEL': 'Utilities'}"
      ]
     },
     "execution_count": 4,
     "metadata": {},
     "output_type": "execute_result"
    }
   ],
   "source": [
    "# Sector mappings\n",
    "nasdaq_obj = ut.Nasdaq100(in_sample_data.columns.tolist())\n",
    "sector_mappings = {ticker: sector for ticker, sector in zip(nasdaq_obj.tickers, nasdaq_obj.get_industries())}\n",
    "sector_mappings"
   ]
  },
  {
   "attachments": {},
   "cell_type": "markdown",
   "metadata": {},
   "source": [
    "## Objective Function \n",
    "\n",
    "The objective function will allow us to select different combinations of strategies and select the one that performs the best based on a performance metric on the out sample data (past 16 months). The metric we will optimize (maximize) is the sharpe ratio of the portfolio given the following inputs:\n",
    "\n",
    "* Optimal weights of the optimization model\n",
    "\n",
    "* Out sample expected returns\n",
    "\n",
    "* Out sample covariance matrix estimator\n",
    "\n",
    "* Risk free rate, which is interpolated from the yield curve as follows:"
   ]
  },
  {
   "cell_type": "code",
   "execution_count": 5,
   "metadata": {},
   "outputs": [],
   "source": [
    "# Child 4 indicates the row of the table corresponding to the most recent day, e.g., 2023-03-06 \n",
    "# See https://home.treasury.gov/resource-center/data-chart-center/interest-rates/TextView?type=daily_treasury_yield_curve\n",
    "selectors = [\n",
    "    '#block-hamilton-content > div > div > div.view-content > table > tbody > tr:nth-child(4) > td.bc1month.views-field.views-field-field-bc-1month',\n",
    "    '#block-hamilton-content > div > div > div.view-content > table > tbody > tr:nth-child(4) > td.bc2month.views-field.views-field-field-bc-2month',\n",
    "    '#block-hamilton-content > div > div > div.view-content > table > tbody > tr:nth-child(4) > td.bc3month.views-field.views-field-field-bc-3month',\n",
    "    '#block-hamilton-content > div > div > div.view-content > table > tbody > tr:nth-child(4) > td.bc4month.views-field.views-field-field-bc-4month',\n",
    "    '#block-hamilton-content > div > div > div.view-content > table > tbody > tr:nth-child(4) > td.views-field.views-field-field-bc-6month',\n",
    "    '#block-hamilton-content > div > div > div.view-content > table > tbody > tr:nth-child(4) > td.views-field.views-field-field-bc-1year',\n",
    "    '#block-hamilton-content > div > div > div.view-content > table > tbody > tr:nth-child(4) > td.views-field.views-field-field-bc-2year',\n",
    "    '#block-hamilton-content > div > div > div.view-content > table > tbody > tr:nth-child(4) > td.bc3month.views-field.views-field-field-bc-3year',\n",
    "    '#block-hamilton-content > div > div > div.view-content > table > tbody > tr:nth-child(4) > td.views-field.views-field-field-bc-5year',\n",
    "    '#block-hamilton-content > div > div > div.view-content > table > tbody > tr:nth-child(4) > td.views-field.views-field-field-bc-7year',\n",
    "    '#block-hamilton-content > div > div > div.view-content > table > tbody > tr:nth-child(4) > td.views-field.views-field-field-bc-10year',\n",
    "    '#block-hamilton-content > div > div > div.view-content > table > tbody > tr:nth-child(4) > td.bc20year.views-field.views-field-field-bc-20year',\n",
    "    '#block-hamilton-content > div > div > div.view-content > table > tbody > tr:nth-child(4) > td.bc30year.views-field.views-field-field-bc-30year'\n",
    "]\n",
    "\n",
    "# Function to scrape the yield curve from the treasury.gov website\n",
    "def get_yield_curve(selector: str) -> float:\n",
    "    \"\"\"\n",
    "    Parameters\n",
    "    ----------\n",
    "    selector : str\n",
    "        A CSS selector string for the yield curve data for a given maturity and date.\n",
    "\n",
    "    Returns\n",
    "    -------\n",
    "    float\n",
    "        A yield curve value for a given maturity.\n",
    "    \"\"\"\n",
    "    url = 'https://home.treasury.gov/resource-center/data-chart-center/interest-rates/TextView?type=daily_treasury_yield_curve&field_tdr_date_value_month=202303'\n",
    "    response = requests.get(url)\n",
    "    soup = BeautifulSoup(response.content, 'html.parser')\n",
    "    element = soup.select_one(selector)\n",
    "    \n",
    "    return float(element.text.strip()) # Remove leading and trailing whitespace and convert rate to float\n",
    "\n",
    "with ThreadPoolExecutor() as executor: # Use all available cores\n",
    "    results = list(executor.map(get_yield_curve, selectors))"
   ]
  },
  {
   "attachments": {},
   "cell_type": "markdown",
   "metadata": {},
   "source": [
    "Now, we interpolate the 16 month constant maturity rate using cubic interpolation:"
   ]
  },
  {
   "cell_type": "code",
   "execution_count": 6,
   "metadata": {},
   "outputs": [
    {
     "name": "stdout",
     "output_type": "stream",
     "text": [
      "Interpolated 16-month rate: 4.907758787530469\n"
     ]
    }
   ],
   "source": [
    "# Rates and maturities are in the same order\n",
    "rates = np.array(results)\n",
    "maturities = np.array([1/12, 2/12, 3/12, 4/12, 6/12, 1, 2, 3, 5, 7, 10, 20, 30])\n",
    "\n",
    "# Create an interpolation function using cubic interpolation\n",
    "f = interp1d(maturities, rates, kind='cubic')\n",
    "\n",
    "# Interpolate the 16-month rate\n",
    "rate_16m = float(f(16/12))\n",
    "\n",
    "print(\"Interpolated 16-month rate:\", rate_16m)"
   ]
  },
  {
   "attachments": {},
   "cell_type": "markdown",
   "metadata": {},
   "source": [
    "We can plot the yield curve using cubic spline:"
   ]
  },
  {
   "cell_type": "code",
   "execution_count": 7,
   "metadata": {},
   "outputs": [
    {
     "data": {
      "image/png": "[encoded data removed]",
      "text/plain": [
       "<Figure size 1200x800 with 1 Axes>"
      ]
     },
     "metadata": {},
     "output_type": "display_data"
    }
   ],
   "source": [
    "plt.plot(maturities, rates, 'o', label='Original Yield Curve Rates') # Using 'o' (circle marker) to denote the original data points\n",
    "\n",
    "# Plot the interpolated yield curve using cubic spline\n",
    "maturities_cubic_spline = np.linspace(maturities.min(), maturities.max(), 1000)\n",
    "rates_cubic_spline = f(maturities_cubic_spline)\n",
    "plt.plot(maturities_cubic_spline , rates_cubic_spline, '-', label='Cubic Spline') # Using '-' (solid line) to denote the interpolated data points\n",
    "\n",
    "# Plot the 16-month interpolated rate\n",
    "plt.plot(16/12, rate_16m, '*', label='16-month interpolated rate', markersize=20, markerfacecolor='yellow', markeredgecolor='black')\n",
    "\n",
    "plt.title('Yield Curve Interpolation using Cubic Spline')\n",
    "plt.xlabel('Maturity (Years)')\n",
    "plt.ylabel('Rate (%)')\n",
    "plt.legend()\n",
    "\n",
    "# display the plot\n",
    "plt.show();"
   ]
  },
  {
   "cell_type": "code",
   "execution_count": 8,
   "metadata": {},
   "outputs": [],
   "source": [
    "rate_16m /= 100"
   ]
  },
  {
   "attachments": {},
   "cell_type": "markdown",
   "metadata": {},
   "source": [
    "Now, we can write our objective function:"
   ]
  },
  {
   "cell_type": "code",
   "execution_count": 18,
   "metadata": {},
   "outputs": [],
   "source": [
    "def objective(trial):\n",
    "    \n",
    "    # -------------------------- Initial hyperparameters ------------------------- #\n",
    "    \n",
    "    params = {\n",
    "        'expected_return_model': trial.suggest_categorical('expected_return_model', ['capm', 'exp_weighted']),\n",
    "        'risk_model': trial.suggest_categorical('risk_model', ['exp_weighted', 'shrinkage']),\n",
    "        'reg_gamma': trial.suggest_int('reg_gamma', 1, 3)\n",
    "    }\n",
    "    \n",
    "    # ------------------------------- Returns model ------------------------------ #\n",
    "    \n",
    "    # If the expected return model is capm, then we need to specify the risk free rate\n",
    "    if params['expected_return_model'] == 'capm':\n",
    "        \n",
    "        in_sample_returns = capm_return(\n",
    "            prices=in_sample_data,\n",
    "            returns_data=False,\n",
    "            risk_free_rate=rate_16m / 100\n",
    "        )\n",
    "        \n",
    "        out_sample_returns = capm_return(\n",
    "            prices=out_sample_data,\n",
    "            returns_data=False,\n",
    "            risk_free_rate=rate_16m\n",
    "        )\n",
    "    else:\n",
    "        # If the expected return model is exp_weighted, then we need to specify the 'span' parameter for the exponential moving average\n",
    "        params['returns_span'] = trial.suggest_int('returns_span', 200, 700)\n",
    "        \n",
    "        in_sample_returns = ema_historical_return(\n",
    "            prices=in_sample_data,\n",
    "            span=params['returns_span'],\n",
    "            returns_data=False,\n",
    "            frequency=252,\n",
    "            compounding=True\n",
    "        )\n",
    "        \n",
    "        out_sample_returns = ema_historical_return(\n",
    "            prices=out_sample_data,\n",
    "            span=params['returns_span'],\n",
    "            returns_data=False,\n",
    "            frequency=252,\n",
    "            compounding=True\n",
    "        )\n",
    "\n",
    "    # -------------------------------- Risk model -------------------------------- #\n",
    "    \n",
    "    # If the risk model is shrinkage, then we need to specify the shrinkage target\n",
    "    if params['risk_model'] == 'shrinkage':\n",
    "        \n",
    "        params['shrinkage_target'] = trial.suggest_categorical('shrinkage_target', ['constant_variance', 'single_factor', 'constant_correlation'])\n",
    "        \n",
    "        in_sample_shrinkage_model = CovarianceShrinkage(prices=in_sample_data, returns_data=False, frequency=252)\n",
    "        out_sample_shrinkage_model = CovarianceShrinkage(prices=out_sample_data, returns_data=False, frequency=252)\n",
    "        \n",
    "        in_sample_cov = in_sample_shrinkage_model.ledoit_wolf(params['shrinkage_target'])\n",
    "        out_sample_cov = out_sample_shrinkage_model.ledoit_wolf(params['shrinkage_target'])\n",
    "        \n",
    "        # Check for positive semi-definiteness\n",
    "        in_sample_cov = fix_nonpositive_semidefinite(in_sample_cov)\n",
    "        out_sample_cov = fix_nonpositive_semidefinite(out_sample_cov)\n",
    "        \n",
    "    else: \n",
    "        # If the risk model is exp_weighted, then we need to specify the 'span' parameter for the exponential moving average\n",
    "        # This allows us to use different spans for the returns and covariance matrices\n",
    "        params['cov_span'] = trial.suggest_int('cov_span', 200, 700)\n",
    "        \n",
    "        in_sample_cov = exp_cov(\n",
    "            prices=in_sample_data,\n",
    "            returns_data=False,\n",
    "            span=params['cov_span'],\n",
    "            frequency=252\n",
    "        )\n",
    "        \n",
    "        out_sample_cov = exp_cov(\n",
    "            prices=out_sample_data,\n",
    "            returns_data=False,\n",
    "            span=params['cov_span'],\n",
    "            frequency=252\n",
    "        )\n",
    "        \n",
    "        # Check for positive semi-definiteness\n",
    "        in_sample_cov = fix_nonpositive_semidefinite(in_sample_cov)\n",
    "        out_sample_cov = fix_nonpositive_semidefinite(out_sample_cov)\n",
    "        \n",
    "    # ------------------------------- Optimization ------------------------------- #\n",
    "    \n",
    "    # Create the optimization model\n",
    "    markowitz_model = EfficientFrontier(\n",
    "        expected_returns=in_sample_returns.to_numpy().flatten(),\n",
    "        cov_matrix=in_sample_cov,\n",
    "        weight_bounds=(0, 1), # Assume fully invested portfolio\n",
    "        solver=None # Use cvxpy’s default choice of solver\n",
    "    )\n",
    "    \n",
    "    # Add sector constraints (the sector_mappings dictionary is scoped from the enclosing environment)\n",
    "    markowitz_model.add_sector_constraints(\n",
    "        sector_mapper=sector_mappings, \n",
    "        sector_lower={'Technology': 0.1}, # At least 10% of the portfolio should be invested in the Technology sector\n",
    "        sector_upper={'Technology': 0.3} # At most 30% of the portfolio should be invested in the Technology sector\n",
    "    )\n",
    "    \n",
    "    # Add the regularization term (tuning gamma i.e., the higher the value of gamma, the more non-negligible weights)\n",
    "    markowitz_model.add_objective(objective_functions.L2_reg, gamma=params['reg_gamma'])\n",
    "    \n",
    "    optimal_weights = markowitz_model.max_sharpe(risk_free_rate=rate_16m)\n",
    "    \n",
    "    # -------------------------------- Evaluation -------------------------------- #\n",
    "    \n",
    "    # Out of sample performance\n",
    "    negated_out_sample_sharpe = objective_functions.sharpe_ratio(\n",
    "        w=np.array(list(optimal_weights.values())), \n",
    "        expected_returns=out_sample_returns.to_numpy().flatten(), \n",
    "        cov_matrix=out_sample_cov, \n",
    "        risk_free_rate=rate_16m,\n",
    "        negative=True # Calculate the negative sharpe ratio, so we can minimize the optuna objective function\n",
    "    )\n",
    "    \n",
    "    print('Out of sample sharpe ratio: {}'.format(negated_out_sample_sharpe))\n",
    "    \n",
    "    return negated_out_sample_sharpe"
   ]
  },
  {
   "cell_type": "code",
   "execution_count": 19,
   "metadata": {},
   "outputs": [
    {
     "name": "stderr",
     "output_type": "stream",
     "text": [
      "\u001b[32m[I 2023-03-07 03:40:26,899]\u001b[0m A new study created in memory with name: min_neg_sharpe\u001b[0m\n",
      "\u001b[32m[I 2023-03-07 03:40:28,034]\u001b[0m Trial 2 finished with value: 0.7110448281034156 and parameters: {'expected_return_model': 'capm', 'risk_model': 'shrinkage', 'reg_gamma': 2, 'shrinkage_target': 'constant_correlation'}. Best is trial 2 with value: 0.7110448281034156.\u001b[0m\n"
     ]
    },
    {
     "name": "stdout",
     "output_type": "stream",
     "text": [
      "Out of sample sharpe ratio: 0.7110448281034156\n"
     ]
    },
    {
     "name": "stderr",
     "output_type": "stream",
     "text": [
      "\u001b[32m[I 2023-03-07 03:40:28,526]\u001b[0m Trial 0 finished with value: 0.7078872208527056 and parameters: {'expected_return_model': 'capm', 'risk_model': 'shrinkage', 'reg_gamma': 1, 'shrinkage_target': 'single_factor'}. Best is trial 0 with value: 0.7078872208527056.\u001b[0m\n"
     ]
    },
    {
     "name": "stdout",
     "output_type": "stream",
     "text": [
      "Out of sample sharpe ratio: 0.7078872208527056\n"
     ]
    },
    {
     "name": "stderr",
     "output_type": "stream",
     "text": [
      "\u001b[32m[I 2023-03-07 03:40:28,758]\u001b[0m Trial 7 finished with value: 0.1716316728878896 and parameters: {'expected_return_model': 'exp_weighted', 'risk_model': 'shrinkage', 'reg_gamma': 2, 'returns_span': 545, 'shrinkage_target': 'constant_variance'}. Best is trial 7 with value: 0.1716316728878896.\u001b[0m\n"
     ]
    },
    {
     "name": "stdout",
     "output_type": "stream",
     "text": [
      "Out of sample sharpe ratio: 0.1716316728878896\n"
     ]
    },
    {
     "name": "stderr",
     "output_type": "stream",
     "text": [
      "\u001b[32m[I 2023-03-07 03:40:30,614]\u001b[0m Trial 4 finished with value: 0.733993501601246 and parameters: {'expected_return_model': 'capm', 'risk_model': 'exp_weighted', 'reg_gamma': 3, 'cov_span': 265}. Best is trial 7 with value: 0.1716316728878896.\u001b[0m\n",
      "\u001b[32m[I 2023-03-07 03:40:30,757]\u001b[0m Trial 3 finished with value: 0.7142924299575362 and parameters: {'expected_return_model': 'capm', 'risk_model': 'exp_weighted', 'reg_gamma': 3, 'cov_span': 681}. Best is trial 7 with value: 0.1716316728878896.\u001b[0m\n"
     ]
    },
    {
     "name": "stdout",
     "output_type": "stream",
     "text": [
      "Out of sample sharpe ratio: 0.733993501601246\n",
      "Out of sample sharpe ratio: 0.7142924299575362\n"
     ]
    },
    {
     "name": "stderr",
     "output_type": "stream",
     "text": [
      "\u001b[32m[I 2023-03-07 03:40:30,974]\u001b[0m Trial 1 finished with value: 0.7252949511152086 and parameters: {'expected_return_model': 'capm', 'risk_model': 'exp_weighted', 'reg_gamma': 2, 'cov_span': 341}. Best is trial 7 with value: 0.1716316728878896.\u001b[0m\n",
      "\u001b[32m[I 2023-03-07 03:40:31,010]\u001b[0m Trial 9 finished with value: 0.7195783853848104 and parameters: {'expected_return_model': 'capm', 'risk_model': 'shrinkage', 'reg_gamma': 1, 'shrinkage_target': 'constant_variance'}. Best is trial 7 with value: 0.1716316728878896.\u001b[0m\n",
      "\u001b[32m[I 2023-03-07 03:40:31,040]\u001b[0m Trial 6 finished with value: 0.7220234893587498 and parameters: {'expected_return_model': 'capm', 'risk_model': 'exp_weighted', 'reg_gamma': 3, 'cov_span': 387}. Best is trial 7 with value: 0.1716316728878896.\u001b[0m\n",
      "\u001b[32m[I 2023-03-07 03:40:31,134]\u001b[0m Trial 10 finished with value: -0.08371470660747163 and parameters: {'expected_return_model': 'exp_weighted', 'risk_model': 'shrinkage', 'reg_gamma': 3, 'returns_span': 341, 'shrinkage_target': 'constant_correlation'}. Best is trial 10 with value: -0.08371470660747163.\u001b[0m\n"
     ]
    },
    {
     "name": "stdout",
     "output_type": "stream",
     "text": [
      "Out of sample sharpe ratio: 0.7252949511152086\n",
      "Out of sample sharpe ratio: 0.7195783853848104\n",
      "Out of sample sharpe ratio: 0.7220234893587498\n",
      "Out of sample sharpe ratio: -0.08371470660747163\n"
     ]
    },
    {
     "name": "stderr",
     "output_type": "stream",
     "text": [
      "\u001b[32m[I 2023-03-07 03:40:31,212]\u001b[0m Trial 5 finished with value: 0.08012069607897099 and parameters: {'expected_return_model': 'exp_weighted', 'risk_model': 'exp_weighted', 'reg_gamma': 1, 'returns_span': 467, 'cov_span': 544}. Best is trial 10 with value: -0.08371470660747163.\u001b[0m\n"
     ]
    },
    {
     "name": "stdout",
     "output_type": "stream",
     "text": [
      "Out of sample sharpe ratio: 0.08012069607897099\n"
     ]
    },
    {
     "name": "stderr",
     "output_type": "stream",
     "text": [
      "\u001b[32m[I 2023-03-07 03:40:32,093]\u001b[0m Trial 8 finished with value: 0.10101540596835104 and parameters: {'expected_return_model': 'exp_weighted', 'risk_model': 'exp_weighted', 'reg_gamma': 2, 'returns_span': 466, 'cov_span': 321}. Best is trial 10 with value: -0.08371470660747163.\u001b[0m\n",
      "\u001b[32m[I 2023-03-07 03:40:32,200]\u001b[0m Trial 11 finished with value: 0.25705147646209875 and parameters: {'expected_return_model': 'exp_weighted', 'risk_model': 'shrinkage', 'reg_gamma': 3, 'returns_span': 698, 'shrinkage_target': 'single_factor'}. Best is trial 10 with value: -0.08371470660747163.\u001b[0m\n"
     ]
    },
    {
     "name": "stdout",
     "output_type": "stream",
     "text": [
      "Out of sample sharpe ratio: 0.10101540596835104\n",
      "Out of sample sharpe ratio: 0.25705147646209875\n"
     ]
    },
    {
     "name": "stderr",
     "output_type": "stream",
     "text": [
      "\u001b[32m[I 2023-03-07 03:40:33,152]\u001b[0m Trial 12 finished with value: 0.7077995946673964 and parameters: {'expected_return_model': 'capm', 'risk_model': 'shrinkage', 'reg_gamma': 3, 'shrinkage_target': 'single_factor'}. Best is trial 10 with value: -0.08371470660747163.\u001b[0m\n",
      "\u001b[32m[I 2023-03-07 03:40:33,193]\u001b[0m Trial 14 finished with value: 0.7077995946673964 and parameters: {'expected_return_model': 'capm', 'risk_model': 'shrinkage', 'reg_gamma': 3, 'shrinkage_target': 'single_factor'}. Best is trial 10 with value: -0.08371470660747163.\u001b[0m\n",
      "\u001b[32m[I 2023-03-07 03:40:33,236]\u001b[0m Trial 17 finished with value: -0.5275065093547407 and parameters: {'expected_return_model': 'exp_weighted', 'risk_model': 'shrinkage', 'reg_gamma': 3, 'returns_span': 223, 'shrinkage_target': 'constant_correlation'}. Best is trial 17 with value: -0.5275065093547407.\u001b[0m\n"
     ]
    },
    {
     "name": "stdout",
     "output_type": "stream",
     "text": [
      "Out of sample sharpe ratio: 0.7077995946673964\n",
      "Out of sample sharpe ratio: 0.7077995946673964\n",
      "Out of sample sharpe ratio: -0.5275065093547407\n"
     ]
    },
    {
     "name": "stderr",
     "output_type": "stream",
     "text": [
      "\u001b[32m[I 2023-03-07 03:40:33,842]\u001b[0m Trial 13 finished with value: 0.7165782139718893 and parameters: {'expected_return_model': 'capm', 'risk_model': 'exp_weighted', 'reg_gamma': 3, 'cov_span': 537}. Best is trial 17 with value: -0.5275065093547407.\u001b[0m\n",
      "\u001b[32m[I 2023-03-07 03:40:33,933]\u001b[0m Trial 15 finished with value: 0.7237379130326603 and parameters: {'expected_return_model': 'capm', 'risk_model': 'exp_weighted', 'reg_gamma': 3, 'cov_span': 360}. Best is trial 17 with value: -0.5275065093547407.\u001b[0m\n"
     ]
    },
    {
     "name": "stdout",
     "output_type": "stream",
     "text": [
      "Out of sample sharpe ratio: 0.7165782139718893\n",
      "Out of sample sharpe ratio: 0.7237379130326603\n"
     ]
    },
    {
     "name": "stderr",
     "output_type": "stream",
     "text": [
      "\u001b[32m[I 2023-03-07 03:40:34,240]\u001b[0m Trial 16 finished with value: 0.17855720562784605 and parameters: {'expected_return_model': 'exp_weighted', 'risk_model': 'exp_weighted', 'reg_gamma': 2, 'returns_span': 563, 'cov_span': 526}. Best is trial 17 with value: -0.5275065093547407.\u001b[0m\n",
      "\u001b[32m[I 2023-03-07 03:40:34,341]\u001b[0m Trial 18 finished with value: -0.45227518880147816 and parameters: {'expected_return_model': 'exp_weighted', 'risk_model': 'shrinkage', 'reg_gamma': 1, 'returns_span': 243, 'shrinkage_target': 'constant_correlation'}. Best is trial 17 with value: -0.5275065093547407.\u001b[0m\n"
     ]
    },
    {
     "name": "stdout",
     "output_type": "stream",
     "text": [
      "Out of sample sharpe ratio: 0.17855720562784605\n",
      "Out of sample sharpe ratio: -0.45227518880147816\n"
     ]
    },
    {
     "name": "stderr",
     "output_type": "stream",
     "text": [
      "\u001b[32m[I 2023-03-07 03:40:34,457]\u001b[0m Trial 19 finished with value: -0.4576804538684845 and parameters: {'expected_return_model': 'exp_weighted', 'risk_model': 'shrinkage', 'reg_gamma': 1, 'returns_span': 242, 'shrinkage_target': 'constant_correlation'}. Best is trial 17 with value: -0.5275065093547407.\u001b[0m\n",
      "\u001b[32m[I 2023-03-07 03:40:34,528]\u001b[0m Trial 22 finished with value: -0.6883330345120647 and parameters: {'expected_return_model': 'exp_weighted', 'risk_model': 'shrinkage', 'reg_gamma': 3, 'returns_span': 200, 'shrinkage_target': 'constant_correlation'}. Best is trial 22 with value: -0.6883330345120647.\u001b[0m\n"
     ]
    },
    {
     "name": "stdout",
     "output_type": "stream",
     "text": [
      "Out of sample sharpe ratio: -0.4576804538684845\n",
      "Out of sample sharpe ratio: -0.6883330345120647\n"
     ]
    },
    {
     "name": "stderr",
     "output_type": "stream",
     "text": [
      "\u001b[32m[I 2023-03-07 03:40:34,927]\u001b[0m Trial 23 finished with value: -0.5488599753511045 and parameters: {'expected_return_model': 'exp_weighted', 'risk_model': 'shrinkage', 'reg_gamma': 2, 'returns_span': 222, 'shrinkage_target': 'constant_correlation'}. Best is trial 22 with value: -0.6883330345120647.\u001b[0m\n",
      "\u001b[32m[I 2023-03-07 03:40:34,994]\u001b[0m Trial 24 finished with value: -0.6823403694536272 and parameters: {'expected_return_model': 'exp_weighted', 'risk_model': 'shrinkage', 'reg_gamma': 2, 'returns_span': 203, 'shrinkage_target': 'constant_correlation'}. Best is trial 22 with value: -0.6883330345120647.\u001b[0m\n",
      "\u001b[32m[I 2023-03-07 03:40:35,070]\u001b[0m Trial 20 finished with value: -0.50927909400037 and parameters: {'expected_return_model': 'exp_weighted', 'risk_model': 'exp_weighted', 'reg_gamma': 1, 'returns_span': 238, 'cov_span': 521}. Best is trial 22 with value: -0.6883330345120647.\u001b[0m\n",
      "\u001b[32m[I 2023-03-07 03:40:35,095]\u001b[0m Trial 25 finished with value: -0.6726662840279874 and parameters: {'expected_return_model': 'exp_weighted', 'risk_model': 'shrinkage', 'reg_gamma': 3, 'returns_span': 202, 'shrinkage_target': 'constant_correlation'}. Best is trial 22 with value: -0.6883330345120647.\u001b[0m\n"
     ]
    },
    {
     "name": "stdout",
     "output_type": "stream",
     "text": [
      "Out of sample sharpe ratio: -0.5488599753511045\n",
      "Out of sample sharpe ratio: -0.6823403694536272\n",
      "Out of sample sharpe ratio: -0.50927909400037\n",
      "Out of sample sharpe ratio: -0.6726662840279874\n"
     ]
    },
    {
     "name": "stderr",
     "output_type": "stream",
     "text": [
      "\u001b[32m[I 2023-03-07 03:40:35,137]\u001b[0m Trial 28 finished with value: -0.6298732936825964 and parameters: {'expected_return_model': 'exp_weighted', 'risk_model': 'shrinkage', 'reg_gamma': 2, 'returns_span': 210, 'shrinkage_target': 'constant_correlation'}. Best is trial 22 with value: -0.6883330345120647.\u001b[0m\n",
      "\u001b[32m[I 2023-03-07 03:40:35,227]\u001b[0m Trial 26 finished with value: -0.6794078970307881 and parameters: {'expected_return_model': 'exp_weighted', 'risk_model': 'shrinkage', 'reg_gamma': 1, 'returns_span': 208, 'shrinkage_target': 'constant_correlation'}. Best is trial 22 with value: -0.6883330345120647.\u001b[0m\n",
      "\u001b[32m[I 2023-03-07 03:40:35,291]\u001b[0m Trial 21 finished with value: -0.5332589073167696 and parameters: {'expected_return_model': 'exp_weighted', 'risk_model': 'exp_weighted', 'reg_gamma': 1, 'returns_span': 234, 'cov_span': 531}. Best is trial 22 with value: -0.6883330345120647.\u001b[0m\n",
      "\u001b[32m[I 2023-03-07 03:40:35,319]\u001b[0m Trial 27 finished with value: -0.6414756275553299 and parameters: {'expected_return_model': 'exp_weighted', 'risk_model': 'shrinkage', 'reg_gamma': 1, 'returns_span': 213, 'shrinkage_target': 'constant_correlation'}. Best is trial 22 with value: -0.6883330345120647.\u001b[0m\n"
     ]
    },
    {
     "name": "stdout",
     "output_type": "stream",
     "text": [
      "Out of sample sharpe ratio: -0.6298732936825964\n",
      "Out of sample sharpe ratio: -0.6794078970307881\n",
      "Out of sample sharpe ratio: -0.5332589073167696\n",
      "Out of sample sharpe ratio: -0.6414756275553299\n"
     ]
    },
    {
     "name": "stderr",
     "output_type": "stream",
     "text": [
      "\u001b[32m[I 2023-03-07 03:40:35,424]\u001b[0m Trial 29 finished with value: -0.6371181092478708 and parameters: {'expected_return_model': 'exp_weighted', 'risk_model': 'shrinkage', 'reg_gamma': 2, 'returns_span': 209, 'shrinkage_target': 'constant_correlation'}. Best is trial 22 with value: -0.6883330345120647.\u001b[0m\n",
      "\u001b[32m[I 2023-03-07 03:40:35,537]\u001b[0m Trial 34 finished with value: -0.1100302774703237 and parameters: {'expected_return_model': 'exp_weighted', 'risk_model': 'shrinkage', 'reg_gamma': 2, 'returns_span': 333, 'shrinkage_target': 'constant_correlation'}. Best is trial 22 with value: -0.6883330345120647.\u001b[0m\n",
      "\u001b[32m[I 2023-03-07 03:40:35,560]\u001b[0m Trial 30 finished with value: -0.16765958776919634 and parameters: {'expected_return_model': 'exp_weighted', 'risk_model': 'shrinkage', 'reg_gamma': 2, 'returns_span': 311, 'shrinkage_target': 'constant_correlation'}. Best is trial 22 with value: -0.6883330345120647.\u001b[0m\n"
     ]
    },
    {
     "name": "stdout",
     "output_type": "stream",
     "text": [
      "Out of sample sharpe ratio: -0.6371181092478708\n",
      "Out of sample sharpe ratio: -0.1100302774703237\n",
      "Out of sample sharpe ratio: -0.16765958776919634\n"
     ]
    },
    {
     "name": "stderr",
     "output_type": "stream",
     "text": [
      "\u001b[32m[I 2023-03-07 03:40:35,649]\u001b[0m Trial 36 finished with value: -0.12228862953571376 and parameters: {'expected_return_model': 'exp_weighted', 'risk_model': 'shrinkage', 'reg_gamma': 2, 'returns_span': 328, 'shrinkage_target': 'constant_correlation'}. Best is trial 22 with value: -0.6883330345120647.\u001b[0m\n",
      "\u001b[32m[I 2023-03-07 03:40:35,807]\u001b[0m Trial 31 finished with value: -0.14556216016294576 and parameters: {'expected_return_model': 'exp_weighted', 'risk_model': 'shrinkage', 'reg_gamma': 2, 'returns_span': 319, 'shrinkage_target': 'constant_correlation'}. Best is trial 22 with value: -0.6883330345120647.\u001b[0m\n",
      "\u001b[32m[I 2023-03-07 03:40:35,809]\u001b[0m Trial 33 finished with value: -0.10763321581922149 and parameters: {'expected_return_model': 'exp_weighted', 'risk_model': 'shrinkage', 'reg_gamma': 2, 'returns_span': 334, 'shrinkage_target': 'constant_correlation'}. Best is trial 22 with value: -0.6883330345120647.\u001b[0m\n",
      "\u001b[32m[I 2023-03-07 03:40:35,816]\u001b[0m Trial 32 finished with value: -0.12479624421924906 and parameters: {'expected_return_model': 'exp_weighted', 'risk_model': 'shrinkage', 'reg_gamma': 2, 'returns_span': 327, 'shrinkage_target': 'constant_correlation'}. Best is trial 22 with value: -0.6883330345120647.\u001b[0m\n"
     ]
    },
    {
     "name": "stdout",
     "output_type": "stream",
     "text": [
      "Out of sample sharpe ratio: -0.12228862953571376\n",
      "Out of sample sharpe ratio: -0.14556216016294576\n",
      "Out of sample sharpe ratio: -0.10763321581922149\n",
      "Out of sample sharpe ratio: -0.12479624421924906\n"
     ]
    },
    {
     "name": "stderr",
     "output_type": "stream",
     "text": [
      "\u001b[32m[I 2023-03-07 03:40:36,037]\u001b[0m Trial 35 finished with value: -0.12732296386127867 and parameters: {'expected_return_model': 'exp_weighted', 'risk_model': 'shrinkage', 'reg_gamma': 2, 'returns_span': 326, 'shrinkage_target': 'constant_correlation'}. Best is trial 22 with value: -0.6883330345120647.\u001b[0m\n",
      "\u001b[32m[I 2023-03-07 03:40:36,206]\u001b[0m Trial 37 finished with value: -0.18626743164341641 and parameters: {'expected_return_model': 'exp_weighted', 'risk_model': 'shrinkage', 'reg_gamma': 2, 'returns_span': 305, 'shrinkage_target': 'constant_variance'}. Best is trial 22 with value: -0.6883330345120647.\u001b[0m\n"
     ]
    },
    {
     "name": "stdout",
     "output_type": "stream",
     "text": [
      "Out of sample sharpe ratio: -0.12732296386127867\n",
      "Out of sample sharpe ratio: -0.18626743164341641\n"
     ]
    },
    {
     "name": "stderr",
     "output_type": "stream",
     "text": [
      "\u001b[32m[I 2023-03-07 03:40:36,285]\u001b[0m Trial 38 finished with value: -0.21608563055820978 and parameters: {'expected_return_model': 'exp_weighted', 'risk_model': 'shrinkage', 'reg_gamma': 3, 'returns_span': 292, 'shrinkage_target': 'constant_correlation'}. Best is trial 22 with value: -0.6883330345120647.\u001b[0m\n",
      "\u001b[32m[I 2023-03-07 03:40:36,335]\u001b[0m Trial 39 finished with value: -0.22741863432637574 and parameters: {'expected_return_model': 'exp_weighted', 'risk_model': 'shrinkage', 'reg_gamma': 3, 'returns_span': 289, 'shrinkage_target': 'constant_variance'}. Best is trial 22 with value: -0.6883330345120647.\u001b[0m\n",
      "\u001b[32m[I 2023-03-07 03:40:36,362]\u001b[0m Trial 40 finished with value: -0.32549954854878665 and parameters: {'expected_return_model': 'exp_weighted', 'risk_model': 'shrinkage', 'reg_gamma': 3, 'returns_span': 263, 'shrinkage_target': 'constant_variance'}. Best is trial 22 with value: -0.6883330345120647.\u001b[0m\n",
      "\u001b[32m[I 2023-03-07 03:40:36,464]\u001b[0m Trial 43 finished with value: -0.23763888390666216 and parameters: {'expected_return_model': 'exp_weighted', 'risk_model': 'shrinkage', 'reg_gamma': 3, 'returns_span': 286, 'shrinkage_target': 'constant_variance'}. Best is trial 22 with value: -0.6883330345120647.\u001b[0m\n"
     ]
    },
    {
     "name": "stdout",
     "output_type": "stream",
     "text": [
      "Out of sample sharpe ratio: -0.21608563055820978\n",
      "Out of sample sharpe ratio: -0.22741863432637574\n",
      "Out of sample sharpe ratio: -0.32549954854878665\n",
      "Out of sample sharpe ratio: -0.23763888390666216\n"
     ]
    },
    {
     "name": "stderr",
     "output_type": "stream",
     "text": [
      "\u001b[32m[I 2023-03-07 03:40:36,520]\u001b[0m Trial 41 finished with value: -0.2850989323616494 and parameters: {'expected_return_model': 'exp_weighted', 'risk_model': 'shrinkage', 'reg_gamma': 3, 'returns_span': 273, 'shrinkage_target': 'constant_variance'}. Best is trial 22 with value: -0.6883330345120647.\u001b[0m\n",
      "\u001b[32m[I 2023-03-07 03:40:36,599]\u001b[0m Trial 42 finished with value: -0.26620826698351213 and parameters: {'expected_return_model': 'exp_weighted', 'risk_model': 'shrinkage', 'reg_gamma': 3, 'returns_span': 278, 'shrinkage_target': 'constant_variance'}. Best is trial 22 with value: -0.6883330345120647.\u001b[0m\n",
      "\u001b[32m[I 2023-03-07 03:40:36,650]\u001b[0m Trial 44 finished with value: -0.304844765043326 and parameters: {'expected_return_model': 'exp_weighted', 'risk_model': 'shrinkage', 'reg_gamma': 3, 'returns_span': 268, 'shrinkage_target': 'constant_variance'}. Best is trial 22 with value: -0.6883330345120647.\u001b[0m\n"
     ]
    },
    {
     "name": "stdout",
     "output_type": "stream",
     "text": [
      "Out of sample sharpe ratio: -0.2850989323616494\n",
      "Out of sample sharpe ratio: -0.26620826698351213\n",
      "Out of sample sharpe ratio: -0.304844765043326\n"
     ]
    },
    {
     "name": "stderr",
     "output_type": "stream",
     "text": [
      "\u001b[32m[I 2023-03-07 03:40:36,767]\u001b[0m Trial 45 finished with value: -0.2850989323616494 and parameters: {'expected_return_model': 'exp_weighted', 'risk_model': 'shrinkage', 'reg_gamma': 3, 'returns_span': 273, 'shrinkage_target': 'constant_variance'}. Best is trial 22 with value: -0.6883330345120647.\u001b[0m\n",
      "\u001b[32m[I 2023-03-07 03:40:36,827]\u001b[0m Trial 46 finished with value: -0.27567890059452566 and parameters: {'expected_return_model': 'exp_weighted', 'risk_model': 'shrinkage', 'reg_gamma': 3, 'returns_span': 275, 'shrinkage_target': 'constant_correlation'}. Best is trial 22 with value: -0.6883330345120647.\u001b[0m\n",
      "\u001b[32m[I 2023-03-07 03:40:36,897]\u001b[0m Trial 47 finished with value: -0.6726662840279874 and parameters: {'expected_return_model': 'exp_weighted', 'risk_model': 'shrinkage', 'reg_gamma': 3, 'returns_span': 202, 'shrinkage_target': 'constant_correlation'}. Best is trial 22 with value: -0.6883330345120647.\u001b[0m\n",
      "\u001b[32m[I 2023-03-07 03:40:36,955]\u001b[0m Trial 48 finished with value: -0.7447732541451084 and parameters: {'expected_return_model': 'exp_weighted', 'risk_model': 'shrinkage', 'reg_gamma': 1, 'returns_span': 200, 'shrinkage_target': 'constant_correlation'}. Best is trial 48 with value: -0.7447732541451084.\u001b[0m\n"
     ]
    },
    {
     "name": "stdout",
     "output_type": "stream",
     "text": [
      "Out of sample sharpe ratio: -0.2850989323616494\n",
      "Out of sample sharpe ratio: -0.27567890059452566\n",
      "Out of sample sharpe ratio: -0.6726662840279874\n",
      "Out of sample sharpe ratio: -0.7447732541451084\n"
     ]
    },
    {
     "name": "stderr",
     "output_type": "stream",
     "text": [
      "\u001b[32m[I 2023-03-07 03:40:37,024]\u001b[0m Trial 49 finished with value: -0.35013700725040864 and parameters: {'expected_return_model': 'exp_weighted', 'risk_model': 'shrinkage', 'reg_gamma': 1, 'returns_span': 264, 'shrinkage_target': 'constant_correlation'}. Best is trial 48 with value: -0.7447732541451084.\u001b[0m\n",
      "\u001b[32m[I 2023-03-07 03:40:37,067]\u001b[0m Trial 50 finished with value: -0.6716498162528964 and parameters: {'expected_return_model': 'exp_weighted', 'risk_model': 'shrinkage', 'reg_gamma': 1, 'returns_span': 209, 'shrinkage_target': 'constant_correlation'}. Best is trial 48 with value: -0.7447732541451084.\u001b[0m\n",
      "\u001b[32m[I 2023-03-07 03:40:37,153]\u001b[0m Trial 51 finished with value: -0.02641333065752185 and parameters: {'expected_return_model': 'exp_weighted', 'risk_model': 'shrinkage', 'reg_gamma': 1, 'returns_span': 379, 'shrinkage_target': 'constant_correlation'}. Best is trial 48 with value: -0.7447732541451084.\u001b[0m\n",
      "\u001b[32m[I 2023-03-07 03:40:37,218]\u001b[0m Trial 52 finished with value: -0.021185837234883122 and parameters: {'expected_return_model': 'exp_weighted', 'risk_model': 'shrinkage', 'reg_gamma': 1, 'returns_span': 382, 'shrinkage_target': 'constant_correlation'}. Best is trial 48 with value: -0.7447732541451084.\u001b[0m\n"
     ]
    },
    {
     "name": "stdout",
     "output_type": "stream",
     "text": [
      "Out of sample sharpe ratio: -0.35013700725040864\n",
      "Out of sample sharpe ratio: -0.6716498162528964\n",
      "Out of sample sharpe ratio: -0.02641333065752185\n",
      "Out of sample sharpe ratio: -0.021185837234883122\n"
     ]
    },
    {
     "name": "stderr",
     "output_type": "stream",
     "text": [
      "\u001b[32m[I 2023-03-07 03:40:37,285]\u001b[0m Trial 53 finished with value: -0.037188868608489065 and parameters: {'expected_return_model': 'exp_weighted', 'risk_model': 'shrinkage', 'reg_gamma': 1, 'returns_span': 373, 'shrinkage_target': 'constant_correlation'}. Best is trial 48 with value: -0.7447732541451084.\u001b[0m\n"
     ]
    },
    {
     "name": "stdout",
     "output_type": "stream",
     "text": [
      "Out of sample sharpe ratio: -0.037188868608489065\n",
      "Out of sample sharpe ratio: 0.7112652097690969\n"
     ]
    },
    {
     "name": "stderr",
     "output_type": "stream",
     "text": [
      "\u001b[32m[I 2023-03-07 03:40:37,490]\u001b[0m Trial 54 finished with value: 0.7112652097690969 and parameters: {'expected_return_model': 'capm', 'risk_model': 'shrinkage', 'reg_gamma': 1, 'shrinkage_target': 'constant_correlation'}. Best is trial 48 with value: -0.7447732541451084.\u001b[0m\n",
      "\u001b[32m[I 2023-03-07 03:40:37,692]\u001b[0m Trial 55 finished with value: 0.7112652097690969 and parameters: {'expected_return_model': 'capm', 'risk_model': 'shrinkage', 'reg_gamma': 1, 'shrinkage_target': 'constant_correlation'}. Best is trial 48 with value: -0.7447732541451084.\u001b[0m\n"
     ]
    },
    {
     "name": "stdout",
     "output_type": "stream",
     "text": [
      "Out of sample sharpe ratio: 0.7112652097690969\n"
     ]
    },
    {
     "name": "stderr",
     "output_type": "stream",
     "text": [
      "\u001b[32m[I 2023-03-07 03:40:38,026]\u001b[0m Trial 56 finished with value: 0.7078872208527056 and parameters: {'expected_return_model': 'capm', 'risk_model': 'shrinkage', 'reg_gamma': 1, 'shrinkage_target': 'single_factor'}. Best is trial 48 with value: -0.7447732541451084.\u001b[0m\n"
     ]
    },
    {
     "name": "stdout",
     "output_type": "stream",
     "text": [
      "Out of sample sharpe ratio: 0.7078872208527056\n"
     ]
    },
    {
     "name": "stderr",
     "output_type": "stream",
     "text": [
      "\u001b[32m[I 2023-03-07 03:40:38,412]\u001b[0m Trial 57 finished with value: 0.7078872208527056 and parameters: {'expected_return_model': 'capm', 'risk_model': 'shrinkage', 'reg_gamma': 1, 'shrinkage_target': 'single_factor'}. Best is trial 48 with value: -0.7447732541451084.\u001b[0m\n"
     ]
    },
    {
     "name": "stdout",
     "output_type": "stream",
     "text": [
      "Out of sample sharpe ratio: 0.7078872208527056\n"
     ]
    },
    {
     "name": "stderr",
     "output_type": "stream",
     "text": [
      "\u001b[32m[I 2023-03-07 03:40:38,753]\u001b[0m Trial 58 finished with value: 0.7078872208527056 and parameters: {'expected_return_model': 'capm', 'risk_model': 'shrinkage', 'reg_gamma': 1, 'shrinkage_target': 'single_factor'}. Best is trial 48 with value: -0.7447732541451084.\u001b[0m\n",
      "\u001b[32m[I 2023-03-07 03:40:38,945]\u001b[0m Trial 59 finished with value: 0.7078872208527056 and parameters: {'expected_return_model': 'capm', 'risk_model': 'shrinkage', 'reg_gamma': 1, 'shrinkage_target': 'single_factor'}. Best is trial 48 with value: -0.7447732541451084.\u001b[0m\n"
     ]
    },
    {
     "name": "stdout",
     "output_type": "stream",
     "text": [
      "Out of sample sharpe ratio: 0.7078872208527056\n",
      "Out of sample sharpe ratio: 0.7078872208527056\n"
     ]
    },
    {
     "name": "stderr",
     "output_type": "stream",
     "text": [
      "\u001b[32m[I 2023-03-07 03:40:39,115]\u001b[0m Trial 60 finished with value: 0.7078872208527056 and parameters: {'expected_return_model': 'capm', 'risk_model': 'shrinkage', 'reg_gamma': 1, 'shrinkage_target': 'single_factor'}. Best is trial 48 with value: -0.7447732541451084.\u001b[0m\n"
     ]
    },
    {
     "name": "stdout",
     "output_type": "stream",
     "text": [
      "Out of sample sharpe ratio: 0.7078872208527056\n"
     ]
    },
    {
     "name": "stderr",
     "output_type": "stream",
     "text": [
      "\u001b[32m[I 2023-03-07 03:40:39,944]\u001b[0m Trial 61 finished with value: 0.7452396442115176 and parameters: {'expected_return_model': 'capm', 'risk_model': 'exp_weighted', 'reg_gamma': 3, 'cov_span': 213}. Best is trial 48 with value: -0.7447732541451084.\u001b[0m\n"
     ]
    },
    {
     "name": "stdout",
     "output_type": "stream",
     "text": [
      "Out of sample sharpe ratio: 0.7452396442115176\n"
     ]
    },
    {
     "name": "stderr",
     "output_type": "stream",
     "text": [
      "\u001b[32m[I 2023-03-07 03:40:41,693]\u001b[0m Trial 62 finished with value: 0.7489187786289745 and parameters: {'expected_return_model': 'capm', 'risk_model': 'exp_weighted', 'reg_gamma': 3, 'cov_span': 201}. Best is trial 48 with value: -0.7447732541451084.\u001b[0m\n"
     ]
    },
    {
     "name": "stdout",
     "output_type": "stream",
     "text": [
      "Out of sample sharpe ratio: 0.7489187786289745\n"
     ]
    },
    {
     "name": "stderr",
     "output_type": "stream",
     "text": [
      "\u001b[32m[I 2023-03-07 03:40:43,135]\u001b[0m Trial 63 finished with value: 0.7142375635675605 and parameters: {'expected_return_model': 'capm', 'risk_model': 'exp_weighted', 'reg_gamma': 3, 'cov_span': 686}. Best is trial 48 with value: -0.7447732541451084.\u001b[0m\n"
     ]
    },
    {
     "name": "stdout",
     "output_type": "stream",
     "text": [
      "Out of sample sharpe ratio: 0.7142375635675605\n"
     ]
    },
    {
     "name": "stderr",
     "output_type": "stream",
     "text": [
      "\u001b[32m[I 2023-03-07 03:40:43,592]\u001b[0m Trial 64 finished with value: 0.1539781114968552 and parameters: {'expected_return_model': 'exp_weighted', 'risk_model': 'exp_weighted', 'reg_gamma': 3, 'returns_span': 522, 'cov_span': 684}. Best is trial 48 with value: -0.7447732541451084.\u001b[0m\n",
      "\u001b[32m[I 2023-03-07 03:40:43,718]\u001b[0m Trial 65 finished with value: 0.15556402879093423 and parameters: {'expected_return_model': 'exp_weighted', 'risk_model': 'exp_weighted', 'reg_gamma': 3, 'returns_span': 515, 'cov_span': 213}. Best is trial 48 with value: -0.7447732541451084.\u001b[0m\n",
      "\u001b[32m[I 2023-03-07 03:40:43,775]\u001b[0m Trial 70 finished with value: -0.664965440303756 and parameters: {'expected_return_model': 'exp_weighted', 'risk_model': 'shrinkage', 'reg_gamma': 3, 'returns_span': 203, 'shrinkage_target': 'constant_correlation'}. Best is trial 48 with value: -0.7447732541451084.\u001b[0m\n"
     ]
    },
    {
     "name": "stdout",
     "output_type": "stream",
     "text": [
      "Out of sample sharpe ratio: 0.1539781114968552\n",
      "Out of sample sharpe ratio: 0.15556402879093423\n",
      "Out of sample sharpe ratio: -0.664965440303756\n"
     ]
    },
    {
     "name": "stderr",
     "output_type": "stream",
     "text": [
      "\u001b[32m[I 2023-03-07 03:40:43,821]\u001b[0m Trial 66 finished with value: 0.19493323276430313 and parameters: {'expected_return_model': 'exp_weighted', 'risk_model': 'exp_weighted', 'reg_gamma': 3, 'returns_span': 567, 'cov_span': 203}. Best is trial 48 with value: -0.7447732541451084.\u001b[0m\n",
      "\u001b[32m[I 2023-03-07 03:40:43,859]\u001b[0m Trial 67 finished with value: -0.6608343830766394 and parameters: {'expected_return_model': 'exp_weighted', 'risk_model': 'exp_weighted', 'reg_gamma': 3, 'returns_span': 204, 'cov_span': 207}. Best is trial 48 with value: -0.7447732541451084.\u001b[0m\n",
      "\u001b[32m[I 2023-03-07 03:40:43,927]\u001b[0m Trial 68 finished with value: -0.6920031033053938 and parameters: {'expected_return_model': 'exp_weighted', 'risk_model': 'exp_weighted', 'reg_gamma': 3, 'returns_span': 200, 'cov_span': 205}. Best is trial 48 with value: -0.7447732541451084.\u001b[0m\n",
      "\u001b[32m[I 2023-03-07 03:40:43,958]\u001b[0m Trial 69 finished with value: -0.6708975994800238 and parameters: {'expected_return_model': 'exp_weighted', 'risk_model': 'exp_weighted', 'reg_gamma': 3, 'returns_span': 204, 'cov_span': 655}. Best is trial 48 with value: -0.7447732541451084.\u001b[0m\n"
     ]
    },
    {
     "name": "stdout",
     "output_type": "stream",
     "text": [
      "Out of sample sharpe ratio: 0.19493323276430313\n",
      "Out of sample sharpe ratio: -0.6608343830766394\n",
      "Out of sample sharpe ratio: -0.6920031033053938\n",
      "Out of sample sharpe ratio: -0.6708975994800238\n"
     ]
    },
    {
     "name": "stderr",
     "output_type": "stream",
     "text": [
      "\u001b[32m[I 2023-03-07 03:40:44,054]\u001b[0m Trial 71 finished with value: -0.727861819413464 and parameters: {'expected_return_model': 'exp_weighted', 'risk_model': 'shrinkage', 'reg_gamma': 1, 'returns_span': 202, 'shrinkage_target': 'constant_correlation'}. Best is trial 48 with value: -0.7447732541451084.\u001b[0m\n",
      "\u001b[32m[I 2023-03-07 03:40:44,162]\u001b[0m Trial 72 finished with value: -0.7447732541451084 and parameters: {'expected_return_model': 'exp_weighted', 'risk_model': 'shrinkage', 'reg_gamma': 1, 'returns_span': 200, 'shrinkage_target': 'constant_correlation'}. Best is trial 48 with value: -0.7447732541451084.\u001b[0m\n"
     ]
    },
    {
     "name": "stdout",
     "output_type": "stream",
     "text": [
      "Out of sample sharpe ratio: -0.727861819413464\n",
      "Out of sample sharpe ratio: -0.7447732541451084\n"
     ]
    },
    {
     "name": "stderr",
     "output_type": "stream",
     "text": [
      "\u001b[32m[I 2023-03-07 03:40:44,358]\u001b[0m Trial 74 finished with value: -0.7447732541451084 and parameters: {'expected_return_model': 'exp_weighted', 'risk_model': 'shrinkage', 'reg_gamma': 1, 'returns_span': 200, 'shrinkage_target': 'constant_correlation'}. Best is trial 48 with value: -0.7447732541451084.\u001b[0m\n",
      "\u001b[32m[I 2023-03-07 03:40:44,447]\u001b[0m Trial 75 finished with value: -0.7447732541451084 and parameters: {'expected_return_model': 'exp_weighted', 'risk_model': 'shrinkage', 'reg_gamma': 1, 'returns_span': 200, 'shrinkage_target': 'constant_correlation'}. Best is trial 48 with value: -0.7447732541451084.\u001b[0m\n",
      "\u001b[32m[I 2023-03-07 03:40:44,462]\u001b[0m Trial 76 finished with value: -0.463140096010092 and parameters: {'expected_return_model': 'exp_weighted', 'risk_model': 'shrinkage', 'reg_gamma': 1, 'returns_span': 241, 'shrinkage_target': 'constant_correlation'}. Best is trial 48 with value: -0.7447732541451084.\u001b[0m\n",
      "\u001b[32m[I 2023-03-07 03:40:44,482]\u001b[0m Trial 73 finished with value: -0.703218190832584 and parameters: {'expected_return_model': 'exp_weighted', 'risk_model': 'shrinkage', 'reg_gamma': 1, 'returns_span': 205, 'shrinkage_target': 'constant_correlation'}. Best is trial 48 with value: -0.7447732541451084.\u001b[0m\n"
     ]
    },
    {
     "name": "stdout",
     "output_type": "stream",
     "text": [
      "Out of sample sharpe ratio: -0.7447732541451084\n",
      "Out of sample sharpe ratio: -0.7447732541451084\n",
      "Out of sample sharpe ratio: -0.463140096010092\n",
      "Out of sample sharpe ratio: -0.703218190832584\n"
     ]
    },
    {
     "name": "stderr",
     "output_type": "stream",
     "text": [
      "\u001b[32m[I 2023-03-07 03:40:44,578]\u001b[0m Trial 78 finished with value: -0.46865485499299747 and parameters: {'expected_return_model': 'exp_weighted', 'risk_model': 'shrinkage', 'reg_gamma': 1, 'returns_span': 240, 'shrinkage_target': 'constant_correlation'}. Best is trial 48 with value: -0.7447732541451084.\u001b[0m\n"
     ]
    },
    {
     "name": "stdout",
     "output_type": "stream",
     "text": [
      "Out of sample sharpe ratio: -0.46865485499299747\n"
     ]
    },
    {
     "name": "stderr",
     "output_type": "stream",
     "text": [
      "\u001b[32m[I 2023-03-07 03:40:44,944]\u001b[0m Trial 79 finished with value: -0.46865485499299747 and parameters: {'expected_return_model': 'exp_weighted', 'risk_model': 'shrinkage', 'reg_gamma': 1, 'returns_span': 240, 'shrinkage_target': 'constant_correlation'}. Best is trial 48 with value: -0.7447732541451084.\u001b[0m\n",
      "\u001b[32m[I 2023-03-07 03:40:45,004]\u001b[0m Trial 80 finished with value: -0.46865485499299747 and parameters: {'expected_return_model': 'exp_weighted', 'risk_model': 'shrinkage', 'reg_gamma': 1, 'returns_span': 240, 'shrinkage_target': 'constant_correlation'}. Best is trial 48 with value: -0.7447732541451084.\u001b[0m\n"
     ]
    },
    {
     "name": "stdout",
     "output_type": "stream",
     "text": [
      "Out of sample sharpe ratio: -0.46865485499299747\n",
      "Out of sample sharpe ratio: -0.46865485499299747\n"
     ]
    },
    {
     "name": "stderr",
     "output_type": "stream",
     "text": [
      "\u001b[32m[I 2023-03-07 03:40:45,500]\u001b[0m Trial 81 finished with value: -0.45227518880147816 and parameters: {'expected_return_model': 'exp_weighted', 'risk_model': 'shrinkage', 'reg_gamma': 1, 'returns_span': 243, 'shrinkage_target': 'constant_correlation'}. Best is trial 48 with value: -0.7447732541451084.\u001b[0m\n",
      "\u001b[32m[I 2023-03-07 03:40:45,524]\u001b[0m Trial 82 finished with value: -0.5270059555164426 and parameters: {'expected_return_model': 'exp_weighted', 'risk_model': 'shrinkage', 'reg_gamma': 1, 'returns_span': 230, 'shrinkage_target': 'constant_correlation'}. Best is trial 48 with value: -0.7447732541451084.\u001b[0m\n",
      "\u001b[32m[I 2023-03-07 03:40:45,594]\u001b[0m Trial 83 finished with value: -0.5394183241220857 and parameters: {'expected_return_model': 'exp_weighted', 'risk_model': 'shrinkage', 'reg_gamma': 1, 'returns_span': 228, 'shrinkage_target': 'constant_correlation'}. Best is trial 48 with value: -0.7447732541451084.\u001b[0m\n",
      "\u001b[32m[I 2023-03-07 03:40:45,671]\u001b[0m Trial 84 finished with value: -0.5457230127746285 and parameters: {'expected_return_model': 'exp_weighted', 'risk_model': 'shrinkage', 'reg_gamma': 1, 'returns_span': 227, 'shrinkage_target': 'constant_correlation'}. Best is trial 48 with value: -0.7447732541451084.\u001b[0m\n"
     ]
    },
    {
     "name": "stdout",
     "output_type": "stream",
     "text": [
      "Out of sample sharpe ratio: -0.45227518880147816\n",
      "Out of sample sharpe ratio: -0.5270059555164426\n",
      "Out of sample sharpe ratio: -0.5394183241220857\n",
      "Out of sample sharpe ratio: -0.5457230127746285\n"
     ]
    },
    {
     "name": "stderr",
     "output_type": "stream",
     "text": [
      "\u001b[32m[I 2023-03-07 03:40:45,742]\u001b[0m Trial 85 finished with value: -0.5394183241220857 and parameters: {'expected_return_model': 'exp_weighted', 'risk_model': 'shrinkage', 'reg_gamma': 1, 'returns_span': 228, 'shrinkage_target': 'constant_correlation'}. Best is trial 48 with value: -0.7447732541451084.\u001b[0m\n",
      "\u001b[32m[I 2023-03-07 03:40:45,784]\u001b[0m Trial 77 finished with value: -0.440631345806241 and parameters: {'expected_return_model': 'exp_weighted', 'risk_model': 'exp_weighted', 'reg_gamma': 3, 'returns_span': 240, 'cov_span': 443}. Best is trial 48 with value: -0.7447732541451084.\u001b[0m\n",
      "\u001b[32m[I 2023-03-07 03:40:45,823]\u001b[0m Trial 86 finished with value: -0.5585341062989447 and parameters: {'expected_return_model': 'exp_weighted', 'risk_model': 'shrinkage', 'reg_gamma': 1, 'returns_span': 225, 'shrinkage_target': 'constant_correlation'}. Best is trial 48 with value: -0.7447732541451084.\u001b[0m\n",
      "\u001b[32m[I 2023-03-07 03:40:45,942]\u001b[0m Trial 87 finished with value: -0.5457230127746285 and parameters: {'expected_return_model': 'exp_weighted', 'risk_model': 'shrinkage', 'reg_gamma': 1, 'returns_span': 227, 'shrinkage_target': 'constant_correlation'}. Best is trial 48 with value: -0.7447732541451084.\u001b[0m\n"
     ]
    },
    {
     "name": "stdout",
     "output_type": "stream",
     "text": [
      "Out of sample sharpe ratio: -0.5394183241220857\n",
      "Out of sample sharpe ratio: -0.440631345806241\n",
      "Out of sample sharpe ratio: -0.5585341062989447\n",
      "Out of sample sharpe ratio: -0.5457230127746285\n"
     ]
    },
    {
     "name": "stderr",
     "output_type": "stream",
     "text": [
      "\u001b[32m[I 2023-03-07 03:40:46,013]\u001b[0m Trial 90 finished with value: -0.5782696685298653 and parameters: {'expected_return_model': 'exp_weighted', 'risk_model': 'shrinkage', 'reg_gamma': 1, 'returns_span': 222, 'shrinkage_target': 'constant_correlation'}. Best is trial 48 with value: -0.7447732541451084.\u001b[0m\n",
      "\u001b[32m[I 2023-03-07 03:40:46,080]\u001b[0m Trial 88 finished with value: -0.5585341062989447 and parameters: {'expected_return_model': 'exp_weighted', 'risk_model': 'shrinkage', 'reg_gamma': 1, 'returns_span': 225, 'shrinkage_target': 'constant_correlation'}. Best is trial 48 with value: -0.7447732541451084.\u001b[0m\n",
      "\u001b[32m[I 2023-03-07 03:40:46,121]\u001b[0m Trial 89 finished with value: -0.5716206285205018 and parameters: {'expected_return_model': 'exp_weighted', 'risk_model': 'shrinkage', 'reg_gamma': 1, 'returns_span': 223, 'shrinkage_target': 'constant_correlation'}. Best is trial 48 with value: -0.7447732541451084.\u001b[0m\n"
     ]
    },
    {
     "name": "stdout",
     "output_type": "stream",
     "text": [
      "Out of sample sharpe ratio: -0.5782696685298653\n",
      "Out of sample sharpe ratio: -0.5585341062989447\n",
      "Out of sample sharpe ratio: -0.5716206285205018\n"
     ]
    },
    {
     "name": "stderr",
     "output_type": "stream",
     "text": [
      "\u001b[32m[I 2023-03-07 03:40:46,241]\u001b[0m Trial 92 finished with value: 0.23781219695179945 and parameters: {'expected_return_model': 'exp_weighted', 'risk_model': 'shrinkage', 'reg_gamma': 1, 'returns_span': 695, 'shrinkage_target': 'constant_correlation'}. Best is trial 48 with value: -0.7447732541451084.\u001b[0m\n",
      "\u001b[32m[I 2023-03-07 03:40:46,294]\u001b[0m Trial 93 finished with value: -0.3914002766325258 and parameters: {'expected_return_model': 'exp_weighted', 'risk_model': 'shrinkage', 'reg_gamma': 1, 'returns_span': 255, 'shrinkage_target': 'constant_correlation'}. Best is trial 48 with value: -0.7447732541451084.\u001b[0m\n",
      "\u001b[32m[I 2023-03-07 03:40:46,313]\u001b[0m Trial 91 finished with value: -0.5782696685298653 and parameters: {'expected_return_model': 'exp_weighted', 'risk_model': 'shrinkage', 'reg_gamma': 1, 'returns_span': 222, 'shrinkage_target': 'constant_correlation'}. Best is trial 48 with value: -0.7447732541451084.\u001b[0m\n",
      "\u001b[32m[I 2023-03-07 03:40:46,346]\u001b[0m Trial 94 finished with value: -0.3866398903372449 and parameters: {'expected_return_model': 'exp_weighted', 'risk_model': 'shrinkage', 'reg_gamma': 1, 'returns_span': 256, 'shrinkage_target': 'constant_correlation'}. Best is trial 48 with value: -0.7447732541451084.\u001b[0m\n",
      "\u001b[32m[I 2023-03-07 03:40:46,371]\u001b[0m Trial 95 finished with value: 0.22434420207824907 and parameters: {'expected_return_model': 'exp_weighted', 'risk_model': 'shrinkage', 'reg_gamma': 1, 'returns_span': 663, 'shrinkage_target': 'constant_correlation'}. Best is trial 48 with value: -0.7447732541451084.\u001b[0m\n",
      "\u001b[32m[I 2023-03-07 03:40:46,389]\u001b[0m Trial 96 finished with value: 0.21120618344206002 and parameters: {'expected_return_model': 'exp_weighted', 'risk_model': 'shrinkage', 'reg_gamma': 1, 'returns_span': 635, 'shrinkage_target': 'constant_correlation'}. Best is trial 48 with value: -0.7447732541451084.\u001b[0m\n",
      "\u001b[32m[I 2023-03-07 03:40:46,408]\u001b[0m Trial 97 finished with value: -0.371027034325406 and parameters: {'expected_return_model': 'exp_weighted', 'risk_model': 'shrinkage', 'reg_gamma': 2, 'returns_span': 255, 'shrinkage_target': 'constant_correlation'}. Best is trial 48 with value: -0.7447732541451084.\u001b[0m\n",
      "\u001b[32m[I 2023-03-07 03:40:46,429]\u001b[0m Trial 98 finished with value: -0.38192471577729165 and parameters: {'expected_return_model': 'exp_weighted', 'risk_model': 'shrinkage', 'reg_gamma': 1, 'returns_span': 257, 'shrinkage_target': 'constant_correlation'}. Best is trial 48 with value: -0.7447732541451084.\u001b[0m\n"
     ]
    },
    {
     "name": "stdout",
     "output_type": "stream",
     "text": [
      "Out of sample sharpe ratio: 0.23781219695179945\n",
      "Out of sample sharpe ratio: -0.3914002766325258\n",
      "Out of sample sharpe ratio: -0.5782696685298653\n",
      "Out of sample sharpe ratio: -0.3866398903372449\n",
      "Out of sample sharpe ratio: 0.22434420207824907\n",
      "Out of sample sharpe ratio: 0.21120618344206002\n",
      "Out of sample sharpe ratio: -0.371027034325406\n",
      "Out of sample sharpe ratio: -0.38192471577729165\n"
     ]
    },
    {
     "name": "stderr",
     "output_type": "stream",
     "text": [
      "\u001b[32m[I 2023-03-07 03:40:46,445]\u001b[0m Trial 99 finished with value: -0.3962064620462386 and parameters: {'expected_return_model': 'exp_weighted', 'risk_model': 'shrinkage', 'reg_gamma': 1, 'returns_span': 254, 'shrinkage_target': 'constant_correlation'}. Best is trial 48 with value: -0.7447732541451084.\u001b[0m\n"
     ]
    },
    {
     "name": "stdout",
     "output_type": "stream",
     "text": [
      "Out of sample sharpe ratio: -0.3962064620462386\n"
     ]
    }
   ],
   "source": [
    "# Create the study object\n",
    "study = optuna.create_study(\n",
    "    sampler=optuna.samplers.TPESampler(), \n",
    "    study_name='min_neg_sharpe', \n",
    "    direction='minimize', \n",
    "    pruner=optuna.pruners.HyperbandPruner() # Prune unpromising trials\n",
    ")\n",
    "study.optimize(objective, n_trials=100, n_jobs=-1)"
   ]
  },
  {
   "cell_type": "code",
   "execution_count": 20,
   "metadata": {},
   "outputs": [
    {
     "data": {
      "application/vnd.plotly.v1+json": {
       "config": {
        "plotlyServerURL": "https://plot.ly"
       },
       "data": [
        {
         "mode": "markers",
         "name": "Objective Value",
         "type": "scatter",
         "x": [
          0,
          1,
          2,
          3,
          4,
          5,
          6,
          7,
          8,
          9,
          10,
          11,
          12,
          13,
          14,
          15,
          16,
          17,
          18,
          19,
          20,
          21,
          22,
          23,
          24,
          25,
          26,
          27,
          28,
          29,
          30,
          31,
          32,
          33,
          34,
          35,
          36,
          37,
          38,
          39,
          40,
          41,
          42,
          43,
          44,
          45,
          46,
          47,
          48,
          49,
          50,
          51,
          52,
          53,
          54,
          55,
          56,
          57,
          58,
          59,
          60,
          61,
          62,
          63,
          64,
          65,
          66,
          67,
          68,
          69,
          70,
          71,
          72,
          73,
          74,
          75,
          76,
          77,
          78,
          79,
          80,
          81,
          82,
          83,
          84,
          85,
          86,
          87,
          88,
          89,
          90,
          91,
          92,
          93,
          94,
          95,
          96,
          97,
          98,
          99
         ],
         "y": [
          0.7078872208527056,
          0.7252949511152086,
          0.7110448281034156,
          0.7142924299575362,
          0.733993501601246,
          0.08012069607897099,
          0.7220234893587498,
          0.1716316728878896,
          0.10101540596835104,
          0.7195783853848104,
          -0.08371470660747163,
          0.25705147646209875,
          0.7077995946673964,
          0.7165782139718893,
          0.7077995946673964,
          0.7237379130326603,
          0.17855720562784605,
          -0.5275065093547407,
          -0.45227518880147816,
          -0.4576804538684845,
          -0.50927909400037,
          -0.5332589073167696,
          -0.6883330345120647,
          -0.5488599753511045,
          -0.6823403694536272,
          -0.6726662840279874,
          -0.6794078970307881,
          -0.6414756275553299,
          -0.6298732936825964,
          -0.6371181092478708,
          -0.16765958776919634,
          -0.14556216016294576,
          -0.12479624421924906,
          -0.10763321581922149,
          -0.1100302774703237,
          -0.12732296386127867,
          -0.12228862953571376,
          -0.18626743164341641,
          -0.21608563055820978,
          -0.22741863432637574,
          -0.32549954854878665,
          -0.2850989323616494,
          -0.26620826698351213,
          -0.23763888390666216,
          -0.304844765043326,
          -0.2850989323616494,
          -0.27567890059452566,
          -0.6726662840279874,
          -0.7447732541451084,
          -0.35013700725040864,
          -0.6716498162528964,
          -0.02641333065752185,
          -0.021185837234883122,
          -0.037188868608489065,
          0.7112652097690969,
          0.7112652097690969,
          0.7078872208527056,
          0.7078872208527056,
          0.7078872208527056,
          0.7078872208527056,
          0.7078872208527056,
          0.7452396442115176,
          0.7489187786289745,
          0.7142375635675605,
          0.1539781114968552,
          0.15556402879093423,
          0.19493323276430313,
          -0.6608343830766394,
          -0.6920031033053938,
          -0.6708975994800238,
          -0.664965440303756,
          -0.727861819413464,
          -0.7447732541451084,
          -0.703218190832584,
          -0.7447732541451084,
          -0.7447732541451084,
          -0.463140096010092,
          -0.440631345806241,
          -0.46865485499299747,
          -0.46865485499299747,
          -0.46865485499299747,
          -0.45227518880147816,
          -0.5270059555164426,
          -0.5394183241220857,
          -0.5457230127746285,
          -0.5394183241220857,
          -0.5585341062989447,
          -0.5457230127746285,
          -0.5585341062989447,
          -0.5716206285205018,
          -0.5782696685298653,
          -0.5782696685298653,
          0.23781219695179945,
          -0.3914002766325258,
          -0.3866398903372449,
          0.22434420207824907,
          0.21120618344206002,
          -0.371027034325406,
          -0.38192471577729165,
          -0.3962064620462386
         ]
        },
        {
         "name": "Best Value",
         "type": "scatter",
         "x": [
          0,
          1,
          2,
          3,
          4,
          5,
          6,
          7,
          8,
          9,
          10,
          11,
          12,
          13,
          14,
          15,
          16,
          17,
          18,
          19,
          20,
          21,
          22,
          23,
          24,
          25,
          26,
          27,
          28,
          29,
          30,
          31,
          32,
          33,
          34,
          35,
          36,
          37,
          38,
          39,
          40,
          41,
          42,
          43,
          44,
          45,
          46,
          47,
          48,
          49,
          50,
          51,
          52,
          53,
          54,
          55,
          56,
          57,
          58,
          59,
          60,
          61,
          62,
          63,
          64,
          65,
          66,
          67,
          68,
          69,
          70,
          71,
          72,
          73,
          74,
          75,
          76,
          77,
          78,
          79,
          80,
          81,
          82,
          83,
          84,
          85,
          86,
          87,
          88,
          89,
          90,
          91,
          92,
          93,
          94,
          95,
          96,
          97,
          98,
          99
         ],
         "y": [
          0.7078872208527056,
          0.7078872208527056,
          0.7078872208527056,
          0.7078872208527056,
          0.7078872208527056,
          0.08012069607897099,
          0.08012069607897099,
          0.08012069607897099,
          0.08012069607897099,
          0.08012069607897099,
          -0.08371470660747163,
          -0.08371470660747163,
          -0.08371470660747163,
          -0.08371470660747163,
          -0.08371470660747163,
          -0.08371470660747163,
          -0.08371470660747163,
          -0.5275065093547407,
          -0.5275065093547407,
          -0.5275065093547407,
          -0.5275065093547407,
          -0.5332589073167696,
          -0.6883330345120647,
          -0.6883330345120647,
          -0.6883330345120647,
          -0.6883330345120647,
          -0.6883330345120647,
          -0.6883330345120647,
          -0.6883330345120647,
          -0.6883330345120647,
          -0.6883330345120647,
          -0.6883330345120647,
          -0.6883330345120647,
          -0.6883330345120647,
          -0.6883330345120647,
          -0.6883330345120647,
          -0.6883330345120647,
          -0.6883330345120647,
          -0.6883330345120647,
          -0.6883330345120647,
          -0.6883330345120647,
          -0.6883330345120647,
          -0.6883330345120647,
          -0.6883330345120647,
          -0.6883330345120647,
          -0.6883330345120647,
          -0.6883330345120647,
          -0.6883330345120647,
          -0.7447732541451084,
          -0.7447732541451084,
          -0.7447732541451084,
          -0.7447732541451084,
          -0.7447732541451084,
          -0.7447732541451084,
          -0.7447732541451084,
          -0.7447732541451084,
          -0.7447732541451084,
          -0.7447732541451084,
          -0.7447732541451084,
          -0.7447732541451084,
          -0.7447732541451084,
          -0.7447732541451084,
          -0.7447732541451084,
          -0.7447732541451084,
          -0.7447732541451084,
          -0.7447732541451084,
          -0.7447732541451084,
          -0.7447732541451084,
          -0.7447732541451084,
          -0.7447732541451084,
          -0.7447732541451084,
          -0.7447732541451084,
          -0.7447732541451084,
          -0.7447732541451084,
          -0.7447732541451084,
          -0.7447732541451084,
          -0.7447732541451084,
          -0.7447732541451084,
          -0.7447732541451084,
          -0.7447732541451084,
          -0.7447732541451084,
          -0.7447732541451084,
          -0.7447732541451084,
          -0.7447732541451084,
          -0.7447732541451084,
          -0.7447732541451084,
          -0.7447732541451084,
          -0.7447732541451084,
          -0.7447732541451084,
          -0.7447732541451084,
          -0.7447732541451084,
          -0.7447732541451084,
          -0.7447732541451084,
          -0.7447732541451084,
          -0.7447732541451084,
          -0.7447732541451084,
          -0.7447732541451084,
          -0.7447732541451084,
          -0.7447732541451084,
          -0.7447732541451084
         ]
        }
       ],
       "layout": {
        "template": {
         "data": {
          "bar": [
           {
            "error_x": {
             "color": "#2a3f5f"
            },
            "error_y": {
             "color": "#2a3f5f"
            },
            "marker": {
             "line": {
              "color": "#E5ECF6",
              "width": 0.5
             },
             "pattern": {
              "fillmode": "overlay",
              "size": 10,
              "solidity": 0.2
             }
            },
            "type": "bar"
           }
          ],
          "barpolar": [
           {
            "marker": {
             "line": {
              "color": "#E5ECF6",
              "width": 0.5
             },
             "pattern": {
              "fillmode": "overlay",
              "size": 10,
              "solidity": 0.2
             }
            },
            "type": "barpolar"
           }
          ],
          "carpet": [
           {
            "aaxis": {
             "endlinecolor": "#2a3f5f",
             "gridcolor": "white",
             "linecolor": "white",
             "minorgridcolor": "white",
             "startlinecolor": "#2a3f5f"
            },
            "baxis": {
             "endlinecolor": "#2a3f5f",
             "gridcolor": "white",
             "linecolor": "white",
             "minorgridcolor": "white",
             "startlinecolor": "#2a3f5f"
            },
            "type": "carpet"
           }
          ],
          "choropleth": [
           {
            "colorbar": {
             "outlinewidth": 0,
             "ticks": ""
            },
            "type": "choropleth"
           }
          ],
          "contour": [
           {
            "colorbar": {
             "outlinewidth": 0,
             "ticks": ""
            },
            "colorscale": [
             [
              0,
              "#0d0887"
             ],
             [
              0.1111111111111111,
              "#46039f"
             ],
             [
              0.2222222222222222,
              "#7201a8"
             ],
             [
              0.3333333333333333,
              "#9c179e"
             ],
             [
              0.4444444444444444,
              "#bd3786"
             ],
             [
              0.5555555555555556,
              "#d8576b"
             ],
             [
              0.6666666666666666,
              "#ed7953"
             ],
             [
              0.7777777777777778,
              "#fb9f3a"
             ],
             [
              0.8888888888888888,
              "#fdca26"
             ],
             [
              1,
              "#f0f921"
             ]
            ],
            "type": "contour"
           }
          ],
          "contourcarpet": [
           {
            "colorbar": {
             "outlinewidth": 0,
             "ticks": ""
            },
            "type": "contourcarpet"
           }
          ],
          "heatmap": [
           {
            "colorbar": {
             "outlinewidth": 0,
             "ticks": ""
            },
            "colorscale": [
             [
              0,
              "#0d0887"
             ],
             [
              0.1111111111111111,
              "#46039f"
             ],
             [
              0.2222222222222222,
              "#7201a8"
             ],
             [
              0.3333333333333333,
              "#9c179e"
             ],
             [
              0.4444444444444444,
              "#bd3786"
             ],
             [
              0.5555555555555556,
              "#d8576b"
             ],
             [
              0.6666666666666666,
              "#ed7953"
             ],
             [
              0.7777777777777778,
              "#fb9f3a"
             ],
             [
              0.8888888888888888,
              "#fdca26"
             ],
             [
              1,
              "#f0f921"
             ]
            ],
            "type": "heatmap"
           }
          ],
          "heatmapgl": [
           {
            "colorbar": {
             "outlinewidth": 0,
             "ticks": ""
            },
            "colorscale": [
             [
              0,
              "#0d0887"
             ],
             [
              0.1111111111111111,
              "#46039f"
             ],
             [
              0.2222222222222222,
              "#7201a8"
             ],
             [
              0.3333333333333333,
              "#9c179e"
             ],
             [
              0.4444444444444444,
              "#bd3786"
             ],
             [
              0.5555555555555556,
              "#d8576b"
             ],
             [
              0.6666666666666666,
              "#ed7953"
             ],
             [
              0.7777777777777778,
              "#fb9f3a"
             ],
             [
              0.8888888888888888,
              "#fdca26"
             ],
             [
              1,
              "#f0f921"
             ]
            ],
            "type": "heatmapgl"
           }
          ],
          "histogram": [
           {
            "marker": {
             "pattern": {
              "fillmode": "overlay",
              "size": 10,
              "solidity": 0.2
             }
            },
            "type": "histogram"
           }
          ],
          "histogram2d": [
           {
            "colorbar": {
             "outlinewidth": 0,
             "ticks": ""
            },
            "colorscale": [
             [
              0,
              "#0d0887"
             ],
             [
              0.1111111111111111,
              "#46039f"
             ],
             [
              0.2222222222222222,
              "#7201a8"
             ],
             [
              0.3333333333333333,
              "#9c179e"
             ],
             [
              0.4444444444444444,
              "#bd3786"
             ],
             [
              0.5555555555555556,
              "#d8576b"
             ],
             [
              0.6666666666666666,
              "#ed7953"
             ],
             [
              0.7777777777777778,
              "#fb9f3a"
             ],
             [
              0.8888888888888888,
              "#fdca26"
             ],
             [
              1,
              "#f0f921"
             ]
            ],
            "type": "histogram2d"
           }
          ],
          "histogram2dcontour": [
           {
            "colorbar": {
             "outlinewidth": 0,
             "ticks": ""
            },
            "colorscale": [
             [
              0,
              "#0d0887"
             ],
             [
              0.1111111111111111,
              "#46039f"
             ],
             [
              0.2222222222222222,
              "#7201a8"
             ],
             [
              0.3333333333333333,
              "#9c179e"
             ],
             [
              0.4444444444444444,
              "#bd3786"
             ],
             [
              0.5555555555555556,
              "#d8576b"
             ],
             [
              0.6666666666666666,
              "#ed7953"
             ],
             [
              0.7777777777777778,
              "#fb9f3a"
             ],
             [
              0.8888888888888888,
              "#fdca26"
             ],
             [
              1,
              "#f0f921"
             ]
            ],
            "type": "histogram2dcontour"
           }
          ],
          "mesh3d": [
           {
            "colorbar": {
             "outlinewidth": 0,
             "ticks": ""
            },
            "type": "mesh3d"
           }
          ],
          "parcoords": [
           {
            "line": {
             "colorbar": {
              "outlinewidth": 0,
              "ticks": ""
             }
            },
            "type": "parcoords"
           }
          ],
          "pie": [
           {
            "automargin": true,
            "type": "pie"
           }
          ],
          "scatter": [
           {
            "fillpattern": {
             "fillmode": "overlay",
             "size": 10,
             "solidity": 0.2
            },
            "type": "scatter"
           }
          ],
          "scatter3d": [
           {
            "line": {
             "colorbar": {
              "outlinewidth": 0,
              "ticks": ""
             }
            },
            "marker": {
             "colorbar": {
              "outlinewidth": 0,
              "ticks": ""
             }
            },
            "type": "scatter3d"
           }
          ],
          "scattercarpet": [
           {
            "marker": {
             "colorbar": {
              "outlinewidth": 0,
              "ticks": ""
             }
            },
            "type": "scattercarpet"
           }
          ],
          "scattergeo": [
           {
            "marker": {
             "colorbar": {
              "outlinewidth": 0,
              "ticks": ""
             }
            },
            "type": "scattergeo"
           }
          ],
          "scattergl": [
           {
            "marker": {
             "colorbar": {
              "outlinewidth": 0,
              "ticks": ""
             }
            },
            "type": "scattergl"
           }
          ],
          "scattermapbox": [
           {
            "marker": {
             "colorbar": {
              "outlinewidth": 0,
              "ticks": ""
             }
            },
            "type": "scattermapbox"
           }
          ],
          "scatterpolar": [
           {
            "marker": {
             "colorbar": {
              "outlinewidth": 0,
              "ticks": ""
             }
            },
            "type": "scatterpolar"
           }
          ],
          "scatterpolargl": [
           {
            "marker": {
             "colorbar": {
              "outlinewidth": 0,
              "ticks": ""
             }
            },
            "type": "scatterpolargl"
           }
          ],
          "scatterternary": [
           {
            "marker": {
             "colorbar": {
              "outlinewidth": 0,
              "ticks": ""
             }
            },
            "type": "scatterternary"
           }
          ],
          "surface": [
           {
            "colorbar": {
             "outlinewidth": 0,
             "ticks": ""
            },
            "colorscale": [
             [
              0,
              "#0d0887"
             ],
             [
              0.1111111111111111,
              "#46039f"
             ],
             [
              0.2222222222222222,
              "#7201a8"
             ],
             [
              0.3333333333333333,
              "#9c179e"
             ],
             [
              0.4444444444444444,
              "#bd3786"
             ],
             [
              0.5555555555555556,
              "#d8576b"
             ],
             [
              0.6666666666666666,
              "#ed7953"
             ],
             [
              0.7777777777777778,
              "#fb9f3a"
             ],
             [
              0.8888888888888888,
              "#fdca26"
             ],
             [
              1,
              "#f0f921"
             ]
            ],
            "type": "surface"
           }
          ],
          "table": [
           {
            "cells": {
             "fill": {
              "color": "#EBF0F8"
             },
             "line": {
              "color": "white"
             }
            },
            "header": {
             "fill": {
              "color": "#C8D4E3"
             },
             "line": {
              "color": "white"
             }
            },
            "type": "table"
           }
          ]
         },
         "layout": {
          "annotationdefaults": {
           "arrowcolor": "#2a3f5f",
           "arrowhead": 0,
           "arrowwidth": 1
          },
          "autotypenumbers": "strict",
          "coloraxis": {
           "colorbar": {
            "outlinewidth": 0,
            "ticks": ""
           }
          },
          "colorscale": {
           "diverging": [
            [
             0,
             "#8e0152"
            ],
            [
             0.1,
             "#c51b7d"
            ],
            [
             0.2,
             "#de77ae"
            ],
            [
             0.3,
             "#f1b6da"
            ],
            [
             0.4,
             "#fde0ef"
            ],
            [
             0.5,
             "#f7f7f7"
            ],
            [
             0.6,
             "#e6f5d0"
            ],
            [
             0.7,
             "#b8e186"
            ],
            [
             0.8,
             "#7fbc41"
            ],
            [
             0.9,
             "#4d9221"
            ],
            [
             1,
             "#276419"
            ]
           ],
           "sequential": [
            [
             0,
             "#0d0887"
            ],
            [
             0.1111111111111111,
             "#46039f"
            ],
            [
             0.2222222222222222,
             "#7201a8"
            ],
            [
             0.3333333333333333,
             "#9c179e"
            ],
            [
             0.4444444444444444,
             "#bd3786"
            ],
            [
             0.5555555555555556,
             "#d8576b"
            ],
            [
             0.6666666666666666,
             "#ed7953"
            ],
            [
             0.7777777777777778,
             "#fb9f3a"
            ],
            [
             0.8888888888888888,
             "#fdca26"
            ],
            [
             1,
             "#f0f921"
            ]
           ],
           "sequentialminus": [
            [
             0,
             "#0d0887"
            ],
            [
             0.1111111111111111,
             "#46039f"
            ],
            [
             0.2222222222222222,
             "#7201a8"
            ],
            [
             0.3333333333333333,
             "#9c179e"
            ],
            [
             0.4444444444444444,
             "#bd3786"
            ],
            [
             0.5555555555555556,
             "#d8576b"
            ],
            [
             0.6666666666666666,
             "#ed7953"
            ],
            [
             0.7777777777777778,
             "#fb9f3a"
            ],
            [
             0.8888888888888888,
             "#fdca26"
            ],
            [
             1,
             "#f0f921"
            ]
           ]
          },
          "colorway": [
           "#636efa",
           "#EF553B",
           "#00cc96",
           "#ab63fa",
           "#FFA15A",
           "#19d3f3",
           "#FF6692",
           "#B6E880",
           "#FF97FF",
           "#FECB52"
          ],
          "font": {
           "color": "#2a3f5f"
          },
          "geo": {
           "bgcolor": "white",
           "lakecolor": "white",
           "landcolor": "#E5ECF6",
           "showlakes": true,
           "showland": true,
           "subunitcolor": "white"
          },
          "hoverlabel": {
           "align": "left"
          },
          "hovermode": "closest",
          "mapbox": {
           "style": "light"
          },
          "paper_bgcolor": "white",
          "plot_bgcolor": "#E5ECF6",
          "polar": {
           "angularaxis": {
            "gridcolor": "white",
            "linecolor": "white",
            "ticks": ""
           },
           "bgcolor": "#E5ECF6",
           "radialaxis": {
            "gridcolor": "white",
            "linecolor": "white",
            "ticks": ""
           }
          },
          "scene": {
           "xaxis": {
            "backgroundcolor": "#E5ECF6",
            "gridcolor": "white",
            "gridwidth": 2,
            "linecolor": "white",
            "showbackground": true,
            "ticks": "",
            "zerolinecolor": "white"
           },
           "yaxis": {
            "backgroundcolor": "#E5ECF6",
            "gridcolor": "white",
            "gridwidth": 2,
            "linecolor": "white",
            "showbackground": true,
            "ticks": "",
            "zerolinecolor": "white"
           },
           "zaxis": {
            "backgroundcolor": "#E5ECF6",
            "gridcolor": "white",
            "gridwidth": 2,
            "linecolor": "white",
            "showbackground": true,
            "ticks": "",
            "zerolinecolor": "white"
           }
          },
          "shapedefaults": {
           "line": {
            "color": "#2a3f5f"
           }
          },
          "ternary": {
           "aaxis": {
            "gridcolor": "white",
            "linecolor": "white",
            "ticks": ""
           },
           "baxis": {
            "gridcolor": "white",
            "linecolor": "white",
            "ticks": ""
           },
           "bgcolor": "#E5ECF6",
           "caxis": {
            "gridcolor": "white",
            "linecolor": "white",
            "ticks": ""
           }
          },
          "title": {
           "x": 0.05
          },
          "xaxis": {
           "automargin": true,
           "gridcolor": "white",
           "linecolor": "white",
           "ticks": "",
           "title": {
            "standoff": 15
           },
           "zerolinecolor": "white",
           "zerolinewidth": 2
          },
          "yaxis": {
           "automargin": true,
           "gridcolor": "white",
           "linecolor": "white",
           "ticks": "",
           "title": {
            "standoff": 15
           },
           "zerolinecolor": "white",
           "zerolinewidth": 2
          }
         }
        },
        "title": {
         "text": "Optimization History Plot"
        },
        "xaxis": {
         "title": {
          "text": "Trial"
         }
        },
        "yaxis": {
         "title": {
          "text": "Objective Value"
         }
        }
       }
      }
     },
     "metadata": {},
     "output_type": "display_data"
    }
   ],
   "source": [
    "# Plot the optimization history\n",
    "optuna.visualization.plot_optimization_history(study)"
   ]
  },
  {
   "attachments": {},
   "cell_type": "markdown",
   "metadata": {},
   "source": [
    "## Tuned Portfolio Strategy"
   ]
  },
  {
   "cell_type": "code",
   "execution_count": 22,
   "metadata": {},
   "outputs": [
    {
     "data": {
      "text/plain": [
       "{'expected_return_model': 'exp_weighted',\n",
       " 'risk_model': 'shrinkage',\n",
       " 'reg_gamma': 1,\n",
       " 'returns_span': 200,\n",
       " 'shrinkage_target': 'constant_correlation'}"
      ]
     },
     "execution_count": 22,
     "metadata": {},
     "output_type": "execute_result"
    }
   ],
   "source": [
    "study.best_params"
   ]
  },
  {
   "attachments": {},
   "cell_type": "markdown",
   "metadata": {},
   "source": [
    "As can be seen, the tuned portfolio strategy includes:\n",
    "\n",
    "* Exponentially weighted returns with a span of 200 days\n",
    "\n",
    "* Shrinkage covariance estimator with 'constant_correlation' as the shrinkage target F\n",
    "\n",
    "* L2 regularization with gamma equaling 1"
   ]
  },
  {
   "cell_type": "code",
   "execution_count": 26,
   "metadata": {},
   "outputs": [],
   "source": [
    "# Returns and risk models\n",
    "returns_models = {}\n",
    "risk_models = {}\n",
    "for sample, data in zip(['in_sample', 'out_sample'], [in_sample_data, out_sample_data]):\n",
    "    \n",
    "    returns_models[sample] = ema_historical_return(\n",
    "        prices=data,\n",
    "        span=study.best_params['returns_span'],\n",
    "        returns_data=False,\n",
    "        frequency=252,\n",
    "        compounding=True\n",
    "    )\n",
    "    \n",
    "    risk_models[sample] = fix_nonpositive_semidefinite(\n",
    "        CovarianceShrinkage(prices=data, returns_data=False, frequency=252).ledoit_wolf(study.best_params['shrinkage_target'])\n",
    "    )"
   ]
  },
  {
   "cell_type": "code",
   "execution_count": 39,
   "metadata": {},
   "outputs": [],
   "source": [
    "# Create the optimization model\n",
    "markowitz_model = EfficientFrontier(\n",
    "    expected_returns=returns_models['in_sample'].to_numpy().flatten(),\n",
    "    cov_matrix=risk_models['in_sample'],\n",
    "    weight_bounds=(0, 1), # Assume fully invested portfolio\n",
    "    solver=None # Use cvxpy’s default choice of solver\n",
    ")\n",
    "\n",
    "# Add sector constraints (the sector_mappings dictionary is scoped from the enclosing environment)\n",
    "markowitz_model.add_sector_constraints(\n",
    "    sector_mapper=sector_mappings, \n",
    "    sector_lower={'Technology': 0.1}, # At least 10% of the portfolio should be invested in the Technology sector\n",
    "    sector_upper={'Technology': 0.3} # At most 30% of the portfolio should be invested in the Technology sector\n",
    ")\n",
    "\n",
    "# Add the regularization term (tuning gamma i.e., the higher the value of gamma, the more non-negligible weights)\n",
    "markowitz_model.add_objective(objective_functions.L2_reg, gamma=study.best_params['reg_gamma'])"
   ]
  },
  {
   "attachments": {},
   "cell_type": "markdown",
   "metadata": {},
   "source": [
    "Plot the efficient frontier:"
   ]
  },
  {
   "cell_type": "code",
   "execution_count": 40,
   "metadata": {},
   "outputs": [
    {
     "data": {
      "text/plain": [
       "<Axes: title={'center': 'Efficient Frontier with Random Portfolios'}, xlabel='Volatility', ylabel='Return'>"
      ]
     },
     "execution_count": 40,
     "metadata": {},
     "output_type": "execute_result"
    },
    {
     "data": {
      "image/png": "[encoded data removed]",
      "text/plain": [
       "<Figure size 1200x1000 with 1 Axes>"
      ]
     },
     "metadata": {},
     "output_type": "display_data"
    }
   ],
   "source": [
    "ut.custom_efficient_frontier(markowitz_model)"
   ]
  },
  {
   "attachments": {},
   "cell_type": "markdown",
   "metadata": {},
   "source": [
    "Optimize for sharpe ratio and obtain the optimal weights:"
   ]
  },
  {
   "cell_type": "code",
   "execution_count": 41,
   "metadata": {},
   "outputs": [
    {
     "data": {
      "text/plain": [
       "OrderedDict([('AAPL', 0.0),\n",
       "             ('AMZN', 0.0),\n",
       "             ('BIIB', 0.0),\n",
       "             ('CMCSA', 0.0),\n",
       "             ('CME', 0.0106864605743916),\n",
       "             ('COST', 0.0753654598310682),\n",
       "             ('CSCO', 0.0),\n",
       "             ('EA', 0.0),\n",
       "             ('EBAY', 0.0267666804802603),\n",
       "             ('GOOG', 0.0170380217576998),\n",
       "             ('HD', 0.0245674844874768),\n",
       "             ('HON', 0.0),\n",
       "             ('INTC', 0.0),\n",
       "             ('JPM', 0.010401588803678),\n",
       "             ('LULU', 0.0564296844029374),\n",
       "             ('META', 0.0),\n",
       "             ('MSFT', 0.0237813422737907),\n",
       "             ('NFLX', 0.0133741748262416),\n",
       "             ('NVDA', 0.2464885027061358),\n",
       "             ('ORLY', 0.0214849070127678),\n",
       "             ('PEP', 0.01794054326802),\n",
       "             ('PFE', 0.0671396409611019),\n",
       "             ('PYPL', 0.0),\n",
       "             ('QCOM', 0.0126921332623736),\n",
       "             ('SBUX', 0.0),\n",
       "             ('TSLA', 0.3758433753520563),\n",
       "             ('TXN', 0.0),\n",
       "             ('VRTX', 0.0),\n",
       "             ('WDAY', 0.0),\n",
       "             ('XEL', 0.0)])"
      ]
     },
     "execution_count": 41,
     "metadata": {},
     "output_type": "execute_result"
    }
   ],
   "source": [
    "optimal_weights = markowitz_model.max_sharpe(risk_free_rate=rate_16m)\n",
    "optimal_weights"
   ]
  },
  {
   "cell_type": "code",
   "execution_count": 46,
   "metadata": {},
   "outputs": [
    {
     "name": "stdout",
     "output_type": "stream",
     "text": [
      "Return: 2.4946\n",
      "Risk: 0.3356\n",
      "Sharpe Ratio: 7.2867\n"
     ]
    }
   ],
   "source": [
    "# In sample performance\n",
    "in_sample_performance = markowitz_model.portfolio_performance(risk_free_rate=rate_16m)\n",
    "for metric, value in zip(['Return', 'Risk', 'Sharpe Ratio'], in_sample_performance):\n",
    "    print(f'{metric}: {round(value, 4)}')"
   ]
  },
  {
   "cell_type": "code",
   "execution_count": 48,
   "metadata": {},
   "outputs": [
    {
     "name": "stdout",
     "output_type": "stream",
     "text": [
      "Return: 0.3733\n",
      "Risk: 0.4353\n",
      "Sharpe Ratio: 0.7448\n"
     ]
    }
   ],
   "source": [
    "out_sample_performance = base_optimizer.portfolio_performance(\n",
    "    weights=optimal_weights,\n",
    "    expected_returns=returns_models['out_sample'].to_numpy().flatten(),\n",
    "    cov_matrix=risk_models['out_sample'],\n",
    "    risk_free_rate=rate_16m\n",
    ")\n",
    "for metric, value in zip(['Return', 'Risk', 'Sharpe Ratio'], out_sample_performance):\n",
    "    print(f'{metric}: {round(value, 4)}')"
   ]
  }
 ],
 "metadata": {
  "kernelspec": {
   "display_name": "optimization_project",
   "language": "python",
   "name": "python3"
  },
  "language_info": {
   "codemirror_mode": {
    "name": "ipython",
    "version": 3
   },
   "file_extension": ".py",
   "mimetype": "text/x-python",
   "name": "python",
   "nbconvert_exporter": "python",
   "pygments_lexer": "ipython3",
   "version": "3.9.12"
  },
  "orig_nbformat": 4
 },
 "nbformat": 4,
 "nbformat_minor": 2
}
