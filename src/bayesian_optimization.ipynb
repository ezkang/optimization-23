{
 "cells": [
  {
   "cell_type": "code",
   "execution_count": 380,
   "metadata": {},
   "outputs": [],
   "source": [
    "from IPython.core.interactiveshell import InteractiveShell\n",
    "InteractiveShell.ast_node_interactivity = \"all\"\n",
    "\n",
    "import warnings\n",
    "import copy\n",
    "import requests\n",
    "from concurrent.futures import ThreadPoolExecutor\n",
    "\n",
    "from bs4 import BeautifulSoup\n",
    "\n",
    "import pandas as pd\n",
    "import numpy as np\n",
    "from scipy.interpolate import interp1d\n",
    "from pypfopt.expected_returns import ema_historical_return, capm_return\n",
    "from pypfopt.risk_models import exp_cov, fix_nonpositive_semidefinite, CovarianceShrinkage\n",
    "from pypfopt.efficient_frontier import EfficientFrontier\n",
    "from pypfopt.discrete_allocation import DiscreteAllocation\n",
    "from pypfopt import objective_functions\n",
    "from pypfopt import base_optimizer\n",
    "import optuna\n",
    "\n",
    "import matplotlib.pyplot as plt\n",
    "import matplotlib as mpl\n",
    "import seaborn as sns\n",
    "import utils as ut"
   ]
  },
  {
   "attachments": {},
   "cell_type": "markdown",
   "metadata": {},
   "source": [
    "## Global Settings"
   ]
  },
  {
   "cell_type": "code",
   "execution_count": 256,
   "metadata": {},
   "outputs": [],
   "source": [
    "seed = 1227\n",
    "rs = np.random.RandomState(seed)\n",
    "\n",
    "mpl.style.use('fivethirtyeight')\n",
    "plt.rcParams['figure.figsize'] = (12, 8)\n",
    "\n",
    "warnings.filterwarnings('ignore')"
   ]
  },
  {
   "attachments": {},
   "cell_type": "markdown",
   "metadata": {},
   "source": [
    "## Data"
   ]
  },
  {
   "cell_type": "code",
   "execution_count": 257,
   "metadata": {},
   "outputs": [
    {
     "data": {
      "text/plain": [
       "((1259, 30), (332, 30), (1591, 1))"
      ]
     },
     "execution_count": 257,
     "metadata": {},
     "output_type": "execute_result"
    }
   ],
   "source": [
    "in_sample_data = pd.read_parquet('../data/in_sample_data.parquet')\n",
    "out_sample_data = pd.read_parquet('../data/out_sample_data.parquet')\n",
    "nasdaq = pd.read_csv('../data/nasdaq_100.csv', index_col=0)\n",
    "\n",
    "in_sample_data.shape, out_sample_data.shape, nasdaq.shape"
   ]
  },
  {
   "attachments": {},
   "cell_type": "markdown",
   "metadata": {},
   "source": [
    "We create a dictionary of ticker-sector key value pairs for use later when we add sector constraints:"
   ]
  },
  {
   "cell_type": "code",
   "execution_count": 258,
   "metadata": {},
   "outputs": [
    {
     "data": {
      "text/plain": [
       "{'AAPL': 'Technology',\n",
       " 'AMZN': 'Retail',\n",
       " 'BIIB': 'Healthcare',\n",
       " 'CMCSA': 'Telecom',\n",
       " 'CME': 'Financial Services',\n",
       " 'COST': 'Retail',\n",
       " 'CSCO': 'Technology',\n",
       " 'EA': 'Technology',\n",
       " 'EBAY': 'Retail',\n",
       " 'GOOG': 'Technology',\n",
       " 'HD': 'Retail',\n",
       " 'HON': 'Manufacturing',\n",
       " 'INTC': 'Technology',\n",
       " 'JPM': 'Financial Services',\n",
       " 'LULU': 'Retail',\n",
       " 'META': 'Technology',\n",
       " 'MSFT': 'Technology',\n",
       " 'NFLX': 'Media & Entertainment',\n",
       " 'NVDA': 'Technology',\n",
       " 'ORLY': 'Consumer Discretionary',\n",
       " 'PEP': 'Consumer Staples',\n",
       " 'PFE': 'Healthcare',\n",
       " 'PYPL': 'Technology',\n",
       " 'QCOM': 'Technology',\n",
       " 'SBUX': 'Consumer Discretionary',\n",
       " 'TSLA': 'Consumer Discretionary',\n",
       " 'TXN': 'Technology',\n",
       " 'VRTX': 'Healthcare',\n",
       " 'WDAY': 'Technology',\n",
       " 'XEL': 'Utilities'}"
      ]
     },
     "execution_count": 258,
     "metadata": {},
     "output_type": "execute_result"
    }
   ],
   "source": [
    "# Sector mappings\n",
    "nasdaq_obj = ut.Nasdaq100(in_sample_data.columns.tolist())\n",
    "sector_mappings = {ticker: sector for ticker, sector in zip(nasdaq_obj.tickers, nasdaq_obj.get_industries())}\n",
    "sector_mappings"
   ]
  },
  {
   "attachments": {},
   "cell_type": "markdown",
   "metadata": {},
   "source": [
    "## Objective Function \n",
    "\n",
    "The objective function will allow us to select different combinations of strategies and select the one that performs the best based on a performance metric on the out sample data (past 16 months). The metric we will optimize (maximize) is the sharpe ratio of the portfolio given the following inputs:\n",
    "\n",
    "* Optimal weights of the optimization model\n",
    "\n",
    "* Out sample expected returns\n",
    "\n",
    "* Out sample covariance matrix estimator\n",
    "\n",
    "* Risk free rate, which is interpolated from the yield curve as follows:"
   ]
  },
  {
   "cell_type": "code",
   "execution_count": 259,
   "metadata": {},
   "outputs": [],
   "source": [
    "# Child 4 indicates the row of the table corresponding to the most recent day, e.g., 2023-03-06 \n",
    "# See https://home.treasury.gov/resource-center/data-chart-center/interest-rates/TextView?type=daily_treasury_yield_curve\n",
    "selectors = [\n",
    "    '#block-hamilton-content > div > div > div.view-content > table > tbody > tr:nth-child(214) > td.bc1month.views-field.views-field-field-bc-1month',\n",
    "    '#block-hamilton-content > div > div > div.view-content > table > tbody > tr:nth-child(214) > td.bc3month.views-field.views-field-field-bc-3month',\n",
    "    '#block-hamilton-content > div > div > div.view-content > table > tbody > tr:nth-child(214) > td.views-field.views-field-field-bc-6month',\n",
    "    '#block-hamilton-content > div > div > div.view-content > table > tbody > tr:nth-child(214) > td.views-field.views-field-field-bc-1year',\n",
    "    '#block-hamilton-content > div > div > div.view-content > table > tbody > tr:nth-child(214) > td.views-field.views-field-field-bc-2year',\n",
    "    '#block-hamilton-content > div > div > div.view-content > table > tbody > tr:nth-child(214) > td.bc3month.views-field.views-field-field-bc-3year',\n",
    "    '#block-hamilton-content > div > div > div.view-content > table > tbody > tr:nth-child(214) > td.views-field.views-field-field-bc-5year',\n",
    "    '#block-hamilton-content > div > div > div.view-content > table > tbody > tr:nth-child(214) > td.views-field.views-field-field-bc-7year',\n",
    "    '#block-hamilton-content > div > div > div.view-content > table > tbody > tr:nth-child(214) > td.views-field.views-field-field-bc-10year',\n",
    "    '#block-hamilton-content > div > div > div.view-content > table > tbody > tr:nth-child(214) > td.bc20year.views-field.views-field-field-bc-20year',\n",
    "    '#block-hamilton-content > div > div > div.view-content > table > tbody > tr:nth-child(214) > td.bc30year.views-field.views-field-field-bc-30year'\n",
    "]\n",
    "\n",
    "# Function to scrape the yield curve from the treasury.gov website\n",
    "def get_yield_curve(selector: str) -> float:\n",
    "    \"\"\"\n",
    "    Parameters\n",
    "    ----------\n",
    "    selector : str\n",
    "        A CSS selector string for the yield curve data for a given maturity and date.\n",
    "\n",
    "    Returns\n",
    "    -------\n",
    "    float\n",
    "        A yield curve value for a given maturity.\n",
    "    \"\"\"\n",
    "    url = 'https://home.treasury.gov/resource-center/data-chart-center/interest-rates/TextView?type=daily_treasury_yield_curve&field_tdr_date_value=2016'\n",
    "    response = requests.get(url)\n",
    "    soup = BeautifulSoup(response.content, 'html.parser')\n",
    "    element = soup.select_one(selector)\n",
    "    \n",
    "    return float(element.text.strip()) # Remove leading and trailing whitespace and convert rate to float\n",
    "\n",
    "with ThreadPoolExecutor() as executor: # Use all available cores\n",
    "    results = list(executor.map(get_yield_curve, selectors))"
   ]
  },
  {
   "attachments": {},
   "cell_type": "markdown",
   "metadata": {},
   "source": [
    "Now, we interpolate the 16 month constant maturity rate using cubic interpolation:"
   ]
  },
  {
   "cell_type": "code",
   "execution_count": 260,
   "metadata": {},
   "outputs": [
    {
     "name": "stdout",
     "output_type": "stream",
     "text": [
      "Interpolated 16-month rate: 0.6820014420816192\n"
     ]
    }
   ],
   "source": [
    "# Rates and maturities are in the same order\n",
    "rates = np.array(results)\n",
    "maturities = np.array([1/12, 3/12, 6/12, 1, 2, 3, 5, 7, 10, 20, 30])\n",
    "\n",
    "# Create an interpolation function using cubic interpolation\n",
    "f = interp1d(maturities, rates, kind='cubic')\n",
    "\n",
    "# Interpolate the 16-month rate\n",
    "rate_16m = float(f(16/12))\n",
    "\n",
    "print(\"Interpolated 16-month rate:\", rate_16m)"
   ]
  },
  {
   "attachments": {},
   "cell_type": "markdown",
   "metadata": {},
   "source": [
    "We can plot the yield curve using cubic spline:"
   ]
  },
  {
   "cell_type": "code",
   "execution_count": 261,
   "metadata": {},
   "outputs": [
    {
     "data": {
      "image/png": "[encoded data removed]",
      "text/plain": [
       "<Figure size 1200x800 with 1 Axes>"
      ]
     },
     "metadata": {},
     "output_type": "display_data"
    }
   ],
   "source": [
    "plt.plot(maturities, rates, 'o', label='Original Yield Curve Rates') # Using 'o' (circle marker) to denote the original data points\n",
    "\n",
    "# Plot the interpolated yield curve using cubic spline\n",
    "maturities_cubic_spline = np.linspace(maturities.min(), maturities.max(), 1000)\n",
    "rates_cubic_spline = f(maturities_cubic_spline)\n",
    "plt.plot(maturities_cubic_spline , rates_cubic_spline, '-', label='Cubic Spline') # Using '-' (solid line) to denote the interpolated data points\n",
    "\n",
    "# Plot the 16-month interpolated rate\n",
    "plt.plot(16/12, rate_16m, '*', label='16-month interpolated rate', markersize=20, markerfacecolor='yellow', markeredgecolor='black')\n",
    "\n",
    "plt.title('Yield Curve Interpolation using Cubic Spline')\n",
    "plt.xlabel('Maturity (Years)')\n",
    "plt.ylabel('Rate (%)')\n",
    "plt.legend()\n",
    "\n",
    "# display the plot\n",
    "plt.show();"
   ]
  },
  {
   "attachments": {},
   "cell_type": "markdown",
   "metadata": {},
   "source": [
    "We now split the training sample into training and validation sets:"
   ]
  },
  {
   "cell_type": "code",
   "execution_count": 262,
   "metadata": {},
   "outputs": [
    {
     "data": {
      "text/plain": [
       "(Timestamp('2016-11-07 00:00:00'), Timestamp('2020-07-02 00:00:00'))"
      ]
     },
     "execution_count": 262,
     "metadata": {},
     "output_type": "execute_result"
    },
    {
     "data": {
      "text/plain": [
       "(Timestamp('2020-07-06 00:00:00'), Timestamp('2021-11-05 00:00:00'))"
      ]
     },
     "execution_count": 262,
     "metadata": {},
     "output_type": "execute_result"
    }
   ],
   "source": [
    "split_date = in_sample_data.index.max() - pd.DateOffset(months=16)\n",
    "\n",
    "in_sample_data_train = in_sample_data.loc[:split_date]\n",
    "in_sample_data_val = in_sample_data.loc[split_date:]\n",
    "\n",
    "(in_sample_data_train.index.min(), in_sample_data_train.index.max())\n",
    "(in_sample_data_val.index.min(), in_sample_data_val.index.max())"
   ]
  },
  {
   "cell_type": "code",
   "execution_count": 309,
   "metadata": {},
   "outputs": [],
   "source": [
    "def objective(trial):\n",
    "    \n",
    "    # -------------------------- Initial hyperparameters ------------------------- #\n",
    "    \n",
    "    params = {\n",
    "        'expected_return_model': trial.suggest_categorical('expected_return_model', ['capm', 'exp_weighted']),\n",
    "        'risk_model': trial.suggest_categorical('risk_model', ['exp_weighted', 'shrinkage']),\n",
    "        'reg_gamma': trial.suggest_int('reg_gamma', 1, 3)\n",
    "    }\n",
    "    \n",
    "    # ------------------------------- Returns model ------------------------------ #\n",
    "    \n",
    "    # If the expected return model is capm, then we need to specify the risk free rate\n",
    "    if params['expected_return_model'] == 'capm':\n",
    "        \n",
    "        returns_train = capm_return(\n",
    "            prices=in_sample_data_train,\n",
    "            returns_data=False,\n",
    "            risk_free_rate=rate_16m\n",
    "        )\n",
    "        \n",
    "        returns_val = capm_return(\n",
    "            prices=in_sample_data_val,\n",
    "            returns_data=False,\n",
    "            risk_free_rate=rate_16m\n",
    "        )\n",
    "    else:\n",
    "        # If the expected return model is exp_weighted, then we need to specify the 'span' parameter for the exponential moving average\n",
    "        params['returns_span'] = trial.suggest_int('returns_span', 200, 700)\n",
    "        \n",
    "        returns_train = ema_historical_return(\n",
    "            prices=in_sample_data_train,\n",
    "            span=params['returns_span'],\n",
    "            returns_data=False,\n",
    "            frequency=252,\n",
    "            compounding=True\n",
    "        )\n",
    "        \n",
    "        returns_val = ema_historical_return(\n",
    "            prices=in_sample_data_val,\n",
    "            span=params['returns_span'],\n",
    "            returns_data=False,\n",
    "            frequency=252,\n",
    "            compounding=True\n",
    "        )\n",
    "\n",
    "    # -------------------------------- Risk model -------------------------------- #\n",
    "    \n",
    "    # If the risk model is shrinkage, then we need to specify the shrinkage target\n",
    "    if params['risk_model'] == 'shrinkage':\n",
    "        \n",
    "        params['shrinkage_target'] = trial.suggest_categorical('shrinkage_target', ['constant_variance', 'single_factor', 'constant_correlation'])\n",
    "        \n",
    "        shrinkage_model_train = CovarianceShrinkage(prices=in_sample_data_train, returns_data=False, frequency=252)\n",
    "        shrinkage_model_val = CovarianceShrinkage(prices=in_sample_data_val, returns_data=False, frequency=252)\n",
    "        \n",
    "        cov_train = shrinkage_model_train.ledoit_wolf(params['shrinkage_target'])\n",
    "        cov_val = shrinkage_model_val.ledoit_wolf(params['shrinkage_target'])\n",
    "        \n",
    "        # Check for positive semi-definiteness\n",
    "        cov_train = fix_nonpositive_semidefinite(cov_train)\n",
    "        cov_val = fix_nonpositive_semidefinite(cov_val)\n",
    "        \n",
    "    else: \n",
    "        # If the risk model is exp_weighted, then we need to specify the 'span' parameter for the exponential moving average\n",
    "        # This allows us to use different spans for the returns and covariance matrices\n",
    "        params['cov_span'] = trial.suggest_int('cov_span', 200, 700)\n",
    "        \n",
    "        cov_train = exp_cov(\n",
    "            prices=in_sample_data_train,\n",
    "            returns_data=False,\n",
    "            span=params['cov_span'],\n",
    "            frequency=252\n",
    "        )\n",
    "        \n",
    "        cov_val = exp_cov(\n",
    "            prices=in_sample_data_val,\n",
    "            returns_data=False,\n",
    "            span=params['cov_span'],\n",
    "            frequency=252\n",
    "        )\n",
    "        \n",
    "        # Check for positive semi-definiteness\n",
    "        cov_train = fix_nonpositive_semidefinite(cov_train)\n",
    "        cov_val = fix_nonpositive_semidefinite(cov_val)\n",
    "        \n",
    "    # ------------------------------- Optimization ------------------------------- #\n",
    "    \n",
    "    # Create the optimization model\n",
    "    markowitz_model = EfficientFrontier(\n",
    "        expected_returns=returns_train.to_numpy().flatten(),\n",
    "        cov_matrix=cov_train,\n",
    "        weight_bounds=(0, 1), # Assume fully invested portfolio\n",
    "        solver=None # Use cvxpy’s default choice of solver\n",
    "    )\n",
    "    \n",
    "    # Add sector constraints (the sector_mappings dictionary is scoped from the enclosing environment)\n",
    "    markowitz_model.add_sector_constraints(\n",
    "        sector_mapper=sector_mappings, \n",
    "        sector_lower={'Technology': 0.1}, # At least 10% of the portfolio should be invested in the Technology sector\n",
    "        sector_upper={'Technology': 0.3} # At most 30% of the portfolio should be invested in the Technology sector\n",
    "    )\n",
    "    \n",
    "    # Add the regularization term (tuning gamma i.e., the higher the value of gamma, the more non-negligible weights)\n",
    "    markowitz_model.add_objective(objective_functions.L2_reg, gamma=params['reg_gamma'])\n",
    "    \n",
    "    try:\n",
    "        optimal_weights = markowitz_model.max_sharpe(risk_free_rate=rate_16m)\n",
    "    except:\n",
    "        print('Optimization failed')\n",
    "        return np.inf\n",
    "    \n",
    "    # -------------------------------- Evaluation -------------------------------- #\n",
    "    \n",
    "    # Out of sample performance\n",
    "    negated_val_sample_sharpe = objective_functions.sharpe_ratio(\n",
    "        w=np.array(list(optimal_weights.values())), \n",
    "        expected_returns=returns_val.to_numpy().flatten(), \n",
    "        cov_matrix=cov_val,\n",
    "        risk_free_rate=rate_16m,\n",
    "        negative=True # Calculate the negative sharpe ratio, so we can minimize the optuna objective function\n",
    "    )\n",
    "    \n",
    "    print('Validation sharpe ratio: {}'.format(negated_val_sample_sharpe))\n",
    "    \n",
    "    return negated_val_sample_sharpe"
   ]
  },
  {
   "cell_type": "code",
   "execution_count": 290,
   "metadata": {},
   "outputs": [
    {
     "name": "stderr",
     "output_type": "stream",
     "text": [
      "\u001b[32m[I 2023-03-08 04:17:22,673]\u001b[0m A new study created in memory with name: min_neg_sharpe\u001b[0m\n",
      "\u001b[32m[I 2023-03-08 04:17:22,856]\u001b[0m Trial 5 finished with value: inf and parameters: {'expected_return_model': 'capm', 'risk_model': 'shrinkage', 'reg_gamma': 1, 'shrinkage_target': 'constant_variance'}. Best is trial 5 with value: inf.\u001b[0m\n",
      "\u001b[32m[I 2023-03-08 04:17:22,859]\u001b[0m Trial 1 finished with value: inf and parameters: {'expected_return_model': 'capm', 'risk_model': 'shrinkage', 'reg_gamma': 2, 'shrinkage_target': 'constant_correlation'}. Best is trial 5 with value: inf.\u001b[0m\n",
      "\u001b[32m[I 2023-03-08 04:17:22,898]\u001b[0m Trial 4 finished with value: inf and parameters: {'expected_return_model': 'capm', 'risk_model': 'shrinkage', 'reg_gamma': 2, 'shrinkage_target': 'constant_variance'}. Best is trial 5 with value: inf.\u001b[0m\n",
      "\u001b[32m[I 2023-03-08 04:17:22,930]\u001b[0m Trial 6 finished with value: inf and parameters: {'expected_return_model': 'capm', 'risk_model': 'shrinkage', 'reg_gamma': 1, 'shrinkage_target': 'constant_correlation'}. Best is trial 5 with value: inf.\u001b[0m\n"
     ]
    },
    {
     "name": "stdout",
     "output_type": "stream",
     "text": [
      "Optimization failedOptimization failed\n",
      "\n",
      "Optimization failed\n",
      "Optimization failed\n"
     ]
    },
    {
     "name": "stderr",
     "output_type": "stream",
     "text": [
      "\u001b[32m[I 2023-03-08 04:17:23,178]\u001b[0m Trial 8 finished with value: inf and parameters: {'expected_return_model': 'capm', 'risk_model': 'shrinkage', 'reg_gamma': 3, 'shrinkage_target': 'constant_correlation'}. Best is trial 5 with value: inf.\u001b[0m\n",
      "\u001b[32m[I 2023-03-08 04:17:23,282]\u001b[0m Trial 11 finished with value: inf and parameters: {'expected_return_model': 'capm', 'risk_model': 'shrinkage', 'reg_gamma': 1, 'shrinkage_target': 'single_factor'}. Best is trial 5 with value: inf.\u001b[0m\n"
     ]
    },
    {
     "name": "stdout",
     "output_type": "stream",
     "text": [
      "Optimization failed\n",
      "Optimization failed\n"
     ]
    },
    {
     "name": "stderr",
     "output_type": "stream",
     "text": [
      "\u001b[32m[I 2023-03-08 04:17:23,506]\u001b[0m Trial 0 finished with value: -3.540258823286463 and parameters: {'expected_return_model': 'exp_weighted', 'risk_model': 'shrinkage', 'reg_gamma': 1, 'returns_span': 368, 'shrinkage_target': 'constant_variance'}. Best is trial 0 with value: -3.540258823286463.\u001b[0m\n",
      "\u001b[32m[I 2023-03-08 04:17:23,621]\u001b[0m Trial 9 finished with value: -3.2101286839580303 and parameters: {'expected_return_model': 'exp_weighted', 'risk_model': 'shrinkage', 'reg_gamma': 1, 'returns_span': 494, 'shrinkage_target': 'constant_correlation'}. Best is trial 0 with value: -3.540258823286463.\u001b[0m\n"
     ]
    },
    {
     "name": "stdout",
     "output_type": "stream",
     "text": [
      "Validation sharpe ratio: -3.540258823286463\n",
      "Validation sharpe ratio: -3.2101286839580303\n"
     ]
    },
    {
     "name": "stderr",
     "output_type": "stream",
     "text": [
      "\u001b[32m[I 2023-03-08 04:17:23,769]\u001b[0m Trial 3 finished with value: -3.676238056484164 and parameters: {'expected_return_model': 'exp_weighted', 'risk_model': 'shrinkage', 'reg_gamma': 1, 'returns_span': 305, 'shrinkage_target': 'constant_correlation'}. Best is trial 3 with value: -3.676238056484164.\u001b[0m\n",
      "\u001b[32m[I 2023-03-08 04:17:23,881]\u001b[0m Trial 10 finished with value: -3.075711109154586 and parameters: {'expected_return_model': 'exp_weighted', 'risk_model': 'shrinkage', 'reg_gamma': 2, 'returns_span': 692, 'shrinkage_target': 'single_factor'}. Best is trial 3 with value: -3.676238056484164.\u001b[0m\n"
     ]
    },
    {
     "name": "stdout",
     "output_type": "stream",
     "text": [
      "Validation sharpe ratio: -3.676238056484164\n",
      "Validation sharpe ratio: -3.075711109154586\n"
     ]
    },
    {
     "name": "stderr",
     "output_type": "stream",
     "text": [
      "\u001b[32m[I 2023-03-08 04:17:24,313]\u001b[0m Trial 16 finished with value: inf and parameters: {'expected_return_model': 'capm', 'risk_model': 'shrinkage', 'reg_gamma': 2, 'shrinkage_target': 'constant_correlation'}. Best is trial 3 with value: -3.676238056484164.\u001b[0m\n",
      "\u001b[32m[I 2023-03-08 04:17:24,492]\u001b[0m Trial 12 finished with value: -4.423904728454512 and parameters: {'expected_return_model': 'exp_weighted', 'risk_model': 'shrinkage', 'reg_gamma': 1, 'returns_span': 230, 'shrinkage_target': 'constant_variance'}. Best is trial 12 with value: -4.423904728454512.\u001b[0m\n"
     ]
    },
    {
     "name": "stdout",
     "output_type": "stream",
     "text": [
      "Optimization failed\n",
      "Validation sharpe ratio: -4.423904728454512\n"
     ]
    },
    {
     "name": "stderr",
     "output_type": "stream",
     "text": [
      "\u001b[32m[I 2023-03-08 04:17:25,592]\u001b[0m Trial 2 finished with value: inf and parameters: {'expected_return_model': 'capm', 'risk_model': 'exp_weighted', 'reg_gamma': 2, 'cov_span': 494}. Best is trial 12 with value: -4.423904728454512.\u001b[0m\n"
     ]
    },
    {
     "name": "stdout",
     "output_type": "stream",
     "text": [
      "Optimization failed\n"
     ]
    },
    {
     "name": "stderr",
     "output_type": "stream",
     "text": [
      "\u001b[32m[I 2023-03-08 04:17:26,199]\u001b[0m Trial 7 finished with value: -4.236145394488122 and parameters: {'expected_return_model': 'exp_weighted', 'risk_model': 'exp_weighted', 'reg_gamma': 2, 'returns_span': 300, 'cov_span': 398}. Best is trial 12 with value: -4.423904728454512.\u001b[0m\n"
     ]
    },
    {
     "name": "stdout",
     "output_type": "stream",
     "text": [
      "Validation sharpe ratio: -4.236145394488122\n"
     ]
    },
    {
     "name": "stderr",
     "output_type": "stream",
     "text": [
      "\u001b[32m[I 2023-03-08 04:17:26,938]\u001b[0m Trial 13 finished with value: inf and parameters: {'expected_return_model': 'capm', 'risk_model': 'exp_weighted', 'reg_gamma': 2, 'cov_span': 554}. Best is trial 12 with value: -4.423904728454512.\u001b[0m\n"
     ]
    },
    {
     "name": "stdout",
     "output_type": "stream",
     "text": [
      "Optimization failed\n"
     ]
    },
    {
     "name": "stderr",
     "output_type": "stream",
     "text": [
      "\u001b[32m[I 2023-03-08 04:17:28,623]\u001b[0m Trial 14 finished with value: -4.241801381531044 and parameters: {'expected_return_model': 'exp_weighted', 'risk_model': 'exp_weighted', 'reg_gamma': 2, 'returns_span': 332, 'cov_span': 314}. Best is trial 12 with value: -4.423904728454512.\u001b[0m\n"
     ]
    },
    {
     "name": "stdout",
     "output_type": "stream",
     "text": [
      "Validation sharpe ratio: -4.241801381531044\n"
     ]
    },
    {
     "name": "stderr",
     "output_type": "stream",
     "text": [
      "\u001b[32m[I 2023-03-08 04:17:29,935]\u001b[0m Trial 15 finished with value: -3.882701280727991 and parameters: {'expected_return_model': 'exp_weighted', 'risk_model': 'exp_weighted', 'reg_gamma': 1, 'returns_span': 548, 'cov_span': 294}. Best is trial 12 with value: -4.423904728454512.\u001b[0m\n",
      "\u001b[32m[I 2023-03-08 04:17:30,063]\u001b[0m Trial 18 finished with value: -4.512782446649576 and parameters: {'expected_return_model': 'exp_weighted', 'risk_model': 'exp_weighted', 'reg_gamma': 1, 'returns_span': 249, 'cov_span': 636}. Best is trial 18 with value: -4.512782446649576.\u001b[0m\n"
     ]
    },
    {
     "name": "stdout",
     "output_type": "stream",
     "text": [
      "Validation sharpe ratio: -3.882701280727991\n",
      "Validation sharpe ratio: -4.512782446649576\n"
     ]
    },
    {
     "name": "stderr",
     "output_type": "stream",
     "text": [
      "\u001b[32m[I 2023-03-08 04:17:30,361]\u001b[0m Trial 17 finished with value: -4.400894264842051 and parameters: {'expected_return_model': 'exp_weighted', 'risk_model': 'exp_weighted', 'reg_gamma': 3, 'returns_span': 259, 'cov_span': 457}. Best is trial 18 with value: -4.512782446649576.\u001b[0m\n"
     ]
    },
    {
     "name": "stdout",
     "output_type": "stream",
     "text": [
      "Validation sharpe ratio: -4.400894264842051\n"
     ]
    },
    {
     "name": "stderr",
     "output_type": "stream",
     "text": [
      "\u001b[32m[I 2023-03-08 04:17:30,611]\u001b[0m Trial 19 finished with value: -5.036246951041608 and parameters: {'expected_return_model': 'exp_weighted', 'risk_model': 'exp_weighted', 'reg_gamma': 3, 'returns_span': 209, 'cov_span': 535}. Best is trial 19 with value: -5.036246951041608.\u001b[0m\n"
     ]
    },
    {
     "name": "stdout",
     "output_type": "stream",
     "text": [
      "Validation sharpe ratio: -5.036246951041608\n"
     ]
    },
    {
     "name": "stderr",
     "output_type": "stream",
     "text": [
      "\u001b[32m[I 2023-03-08 04:17:31,749]\u001b[0m Trial 20 finished with value: -6.013670290425231 and parameters: {'expected_return_model': 'exp_weighted', 'risk_model': 'exp_weighted', 'reg_gamma': 3, 'returns_span': 202, 'cov_span': 217}. Best is trial 20 with value: -6.013670290425231.\u001b[0m\n"
     ]
    },
    {
     "name": "stdout",
     "output_type": "stream",
     "text": [
      "Validation sharpe ratio: -6.013670290425231\n"
     ]
    },
    {
     "name": "stderr",
     "output_type": "stream",
     "text": [
      "\u001b[32m[I 2023-03-08 04:17:31,969]\u001b[0m Trial 21 finished with value: -5.705488394129832 and parameters: {'expected_return_model': 'exp_weighted', 'risk_model': 'exp_weighted', 'reg_gamma': 3, 'returns_span': 212, 'cov_span': 229}. Best is trial 20 with value: -6.013670290425231.\u001b[0m\n",
      "\u001b[32m[I 2023-03-08 04:17:32,133]\u001b[0m Trial 22 finished with value: -5.778177352473223 and parameters: {'expected_return_model': 'exp_weighted', 'risk_model': 'exp_weighted', 'reg_gamma': 3, 'returns_span': 212, 'cov_span': 215}. Best is trial 20 with value: -6.013670290425231.\u001b[0m\n"
     ]
    },
    {
     "name": "stdout",
     "output_type": "stream",
     "text": [
      "Validation sharpe ratio: -5.705488394129832\n",
      "Validation sharpe ratio: -5.778177352473223\n"
     ]
    },
    {
     "name": "stderr",
     "output_type": "stream",
     "text": [
      "\u001b[32m[I 2023-03-08 04:17:32,815]\u001b[0m Trial 23 finished with value: -5.384838943738965 and parameters: {'expected_return_model': 'exp_weighted', 'risk_model': 'exp_weighted', 'reg_gamma': 3, 'returns_span': 234, 'cov_span': 209}. Best is trial 20 with value: -6.013670290425231.\u001b[0m\n"
     ]
    },
    {
     "name": "stdout",
     "output_type": "stream",
     "text": [
      "Validation sharpe ratio: -5.384838943738965\n"
     ]
    },
    {
     "name": "stderr",
     "output_type": "stream",
     "text": [
      "\u001b[32m[I 2023-03-08 04:17:34,674]\u001b[0m Trial 25 finished with value: -4.977211708885045 and parameters: {'expected_return_model': 'exp_weighted', 'risk_model': 'exp_weighted', 'reg_gamma': 3, 'returns_span': 206, 'cov_span': 674}. Best is trial 20 with value: -6.013670290425231.\u001b[0m\n"
     ]
    },
    {
     "name": "stdout",
     "output_type": "stream",
     "text": [
      "Validation sharpe ratio: -4.977211708885045\n"
     ]
    },
    {
     "name": "stderr",
     "output_type": "stream",
     "text": [
      "\u001b[32m[I 2023-03-08 04:17:35,002]\u001b[0m Trial 24 finished with value: -4.989511875152396 and parameters: {'expected_return_model': 'exp_weighted', 'risk_model': 'exp_weighted', 'reg_gamma': 3, 'returns_span': 205, 'cov_span': 687}. Best is trial 20 with value: -6.013670290425231.\u001b[0m\n"
     ]
    },
    {
     "name": "stdout",
     "output_type": "stream",
     "text": [
      "Validation sharpe ratio: -4.989511875152396\n"
     ]
    },
    {
     "name": "stderr",
     "output_type": "stream",
     "text": [
      "\u001b[32m[I 2023-03-08 04:17:35,425]\u001b[0m Trial 26 finished with value: -5.16124453100212 and parameters: {'expected_return_model': 'exp_weighted', 'risk_model': 'exp_weighted', 'reg_gamma': 1, 'returns_span': 205, 'cov_span': 675}. Best is trial 20 with value: -6.013670290425231.\u001b[0m\n",
      "\u001b[32m[I 2023-03-08 04:17:35,626]\u001b[0m Trial 27 finished with value: -5.095248640336799 and parameters: {'expected_return_model': 'exp_weighted', 'risk_model': 'exp_weighted', 'reg_gamma': 3, 'returns_span': 200, 'cov_span': 695}. Best is trial 20 with value: -6.013670290425231.\u001b[0m\n"
     ]
    },
    {
     "name": "stdout",
     "output_type": "stream",
     "text": [
      "Validation sharpe ratio: -5.16124453100212\n",
      "Validation sharpe ratio: -5.095248640336799\n"
     ]
    },
    {
     "name": "stderr",
     "output_type": "stream",
     "text": [
      "\u001b[32m[I 2023-03-08 04:17:36,934]\u001b[0m Trial 28 finished with value: -6.0866689904745535 and parameters: {'expected_return_model': 'exp_weighted', 'risk_model': 'exp_weighted', 'reg_gamma': 3, 'returns_span': 201, 'cov_span': 209}. Best is trial 28 with value: -6.0866689904745535.\u001b[0m\n",
      "\u001b[32m[I 2023-03-08 04:17:37,063]\u001b[0m Trial 30 finished with value: -6.048334342705279 and parameters: {'expected_return_model': 'exp_weighted', 'risk_model': 'exp_weighted', 'reg_gamma': 3, 'returns_span': 204, 'cov_span': 202}. Best is trial 28 with value: -6.0866689904745535.\u001b[0m\n"
     ]
    },
    {
     "name": "stdout",
     "output_type": "stream",
     "text": [
      "Validation sharpe ratio: -6.0866689904745535\n",
      "Validation sharpe ratio: -6.048334342705279\n"
     ]
    },
    {
     "name": "stderr",
     "output_type": "stream",
     "text": [
      "\u001b[32m[I 2023-03-08 04:17:37,260]\u001b[0m Trial 29 finished with value: -6.0328697713287704 and parameters: {'expected_return_model': 'exp_weighted', 'risk_model': 'exp_weighted', 'reg_gamma': 3, 'returns_span': 203, 'cov_span': 209}. Best is trial 28 with value: -6.0866689904745535.\u001b[0m\n"
     ]
    },
    {
     "name": "stdout",
     "output_type": "stream",
     "text": [
      "Validation sharpe ratio: -6.0328697713287704\n"
     ]
    },
    {
     "name": "stderr",
     "output_type": "stream",
     "text": [
      "\u001b[32m[I 2023-03-08 04:17:37,914]\u001b[0m Trial 31 finished with value: -4.282499625727314 and parameters: {'expected_return_model': 'exp_weighted', 'risk_model': 'exp_weighted', 'reg_gamma': 3, 'returns_span': 393, 'cov_span': 208}. Best is trial 28 with value: -6.0866689904745535.\u001b[0m\n"
     ]
    },
    {
     "name": "stdout",
     "output_type": "stream",
     "text": [
      "Validation sharpe ratio: -4.282499625727314\n"
     ]
    },
    {
     "name": "stderr",
     "output_type": "stream",
     "text": [
      "\u001b[32m[I 2023-03-08 04:17:39,772]\u001b[0m Trial 32 finished with value: -4.196668390375766 and parameters: {'expected_return_model': 'exp_weighted', 'risk_model': 'exp_weighted', 'reg_gamma': 3, 'returns_span': 393, 'cov_span': 231}. Best is trial 28 with value: -6.0866689904745535.\u001b[0m\n"
     ]
    },
    {
     "name": "stdout",
     "output_type": "stream",
     "text": [
      "Validation sharpe ratio: -4.196668390375766\n"
     ]
    },
    {
     "name": "stderr",
     "output_type": "stream",
     "text": [
      "\u001b[32m[I 2023-03-08 04:17:41,417]\u001b[0m Trial 34 finished with value: -4.274946570122634 and parameters: {'expected_return_model': 'exp_weighted', 'risk_model': 'exp_weighted', 'reg_gamma': 3, 'returns_span': 407, 'cov_span': 200}. Best is trial 28 with value: -6.0866689904745535.\u001b[0m\n",
      "\u001b[32m[I 2023-03-08 04:17:41,610]\u001b[0m Trial 35 finished with value: -4.348326221727151 and parameters: {'expected_return_model': 'exp_weighted', 'risk_model': 'exp_weighted', 'reg_gamma': 3, 'returns_span': 355, 'cov_span': 225}. Best is trial 28 with value: -6.0866689904745535.\u001b[0m\n"
     ]
    },
    {
     "name": "stdout",
     "output_type": "stream",
     "text": [
      "Validation sharpe ratio: -4.274946570122634\n",
      "Validation sharpe ratio: -4.348326221727151\n"
     ]
    },
    {
     "name": "stderr",
     "output_type": "stream",
     "text": [
      "\u001b[32m[I 2023-03-08 04:17:41,716]\u001b[0m Trial 33 finished with value: -4.383844770927426 and parameters: {'expected_return_model': 'exp_weighted', 'risk_model': 'exp_weighted', 'reg_gamma': 3, 'returns_span': 365, 'cov_span': 207}. Best is trial 28 with value: -6.0866689904745535.\u001b[0m\n"
     ]
    },
    {
     "name": "stdout",
     "output_type": "stream",
     "text": [
      "Validation sharpe ratio: -4.383844770927426\n"
     ]
    },
    {
     "name": "stderr",
     "output_type": "stream",
     "text": [
      "\u001b[32m[I 2023-03-08 04:17:42,837]\u001b[0m Trial 36 finished with value: -4.134953301859817 and parameters: {'expected_return_model': 'exp_weighted', 'risk_model': 'exp_weighted', 'reg_gamma': 3, 'returns_span': 364, 'cov_span': 282}. Best is trial 28 with value: -6.0866689904745535.\u001b[0m\n",
      "\u001b[32m[I 2023-03-08 04:17:42,929]\u001b[0m Trial 37 finished with value: -4.023330052830532 and parameters: {'expected_return_model': 'exp_weighted', 'risk_model': 'exp_weighted', 'reg_gamma': 3, 'returns_span': 398, 'cov_span': 285}. Best is trial 28 with value: -6.0866689904745535.\u001b[0m\n"
     ]
    },
    {
     "name": "stdout",
     "output_type": "stream",
     "text": [
      "Validation sharpe ratio: -4.134953301859817\n",
      "Validation sharpe ratio: -4.023330052830532\n"
     ]
    },
    {
     "name": "stderr",
     "output_type": "stream",
     "text": [
      "\u001b[32m[I 2023-03-08 04:17:43,134]\u001b[0m Trial 38 finished with value: -4.108824544366661 and parameters: {'expected_return_model': 'exp_weighted', 'risk_model': 'exp_weighted', 'reg_gamma': 3, 'returns_span': 379, 'cov_span': 274}. Best is trial 28 with value: -6.0866689904745535.\u001b[0m\n"
     ]
    },
    {
     "name": "stdout",
     "output_type": "stream",
     "text": [
      "Validation sharpe ratio: -4.108824544366661\n"
     ]
    },
    {
     "name": "stderr",
     "output_type": "stream",
     "text": [
      "\u001b[32m[I 2023-03-08 04:17:43,713]\u001b[0m Trial 39 finished with value: -4.557470494701696 and parameters: {'expected_return_model': 'exp_weighted', 'risk_model': 'exp_weighted', 'reg_gamma': 3, 'returns_span': 279, 'cov_span': 285}. Best is trial 28 with value: -6.0866689904745535.\u001b[0m\n"
     ]
    },
    {
     "name": "stdout",
     "output_type": "stream",
     "text": [
      "Validation sharpe ratio: -4.557470494701696\n"
     ]
    },
    {
     "name": "stderr",
     "output_type": "stream",
     "text": [
      "\u001b[32m[I 2023-03-08 04:17:44,040]\u001b[0m Trial 40 finished with value: -4.49969881464256 and parameters: {'expected_return_model': 'exp_weighted', 'risk_model': 'exp_weighted', 'reg_gamma': 3, 'returns_span': 282, 'cov_span': 297}. Best is trial 28 with value: -6.0866689904745535.\u001b[0m\n"
     ]
    },
    {
     "name": "stdout",
     "output_type": "stream",
     "text": [
      "Validation sharpe ratio: -4.49969881464256\n"
     ]
    },
    {
     "name": "stderr",
     "output_type": "stream",
     "text": [
      "\u001b[32m[I 2023-03-08 04:17:45,363]\u001b[0m Trial 41 finished with value: -4.6209444707094205 and parameters: {'expected_return_model': 'exp_weighted', 'risk_model': 'exp_weighted', 'reg_gamma': 3, 'returns_span': 273, 'cov_span': 281}. Best is trial 28 with value: -6.0866689904745535.\u001b[0m\n"
     ]
    },
    {
     "name": "stdout",
     "output_type": "stream",
     "text": [
      "Validation sharpe ratio: -4.6209444707094205\n"
     ]
    },
    {
     "name": "stderr",
     "output_type": "stream",
     "text": [
      "\u001b[32m[I 2023-03-08 04:17:46,040]\u001b[0m Trial 42 finished with value: -4.508327213337082 and parameters: {'expected_return_model': 'exp_weighted', 'risk_model': 'exp_weighted', 'reg_gamma': 3, 'returns_span': 278, 'cov_span': 306}. Best is trial 28 with value: -6.0866689904745535.\u001b[0m\n"
     ]
    },
    {
     "name": "stdout",
     "output_type": "stream",
     "text": [
      "Validation sharpe ratio: -4.508327213337082\n"
     ]
    },
    {
     "name": "stderr",
     "output_type": "stream",
     "text": [
      "\u001b[32m[I 2023-03-08 04:17:46,428]\u001b[0m Trial 43 finished with value: -4.529260074891959 and parameters: {'expected_return_model': 'exp_weighted', 'risk_model': 'exp_weighted', 'reg_gamma': 3, 'returns_span': 279, 'cov_span': 295}. Best is trial 28 with value: -6.0866689904745535.\u001b[0m\n"
     ]
    },
    {
     "name": "stdout",
     "output_type": "stream",
     "text": [
      "Validation sharpe ratio: -4.529260074891959\n"
     ]
    },
    {
     "name": "stderr",
     "output_type": "stream",
     "text": [
      "\u001b[32m[I 2023-03-08 04:17:47,564]\u001b[0m Trial 47 finished with value: inf and parameters: {'expected_return_model': 'capm', 'risk_model': 'exp_weighted', 'reg_gamma': 2, 'cov_span': 358}. Best is trial 28 with value: -6.0866689904745535.\u001b[0m\n",
      "\u001b[32m[I 2023-03-08 04:17:47,757]\u001b[0m Trial 44 finished with value: -4.545168571584023 and parameters: {'expected_return_model': 'exp_weighted', 'risk_model': 'exp_weighted', 'reg_gamma': 3, 'returns_span': 271, 'cov_span': 315}. Best is trial 28 with value: -6.0866689904745535.\u001b[0m\n"
     ]
    },
    {
     "name": "stdout",
     "output_type": "stream",
     "text": [
      "Optimization failed\n",
      "Validation sharpe ratio: -4.545168571584023\n"
     ]
    },
    {
     "name": "stderr",
     "output_type": "stream",
     "text": [
      "\u001b[32m[I 2023-03-08 04:17:47,804]\u001b[0m Trial 45 finished with value: -4.417722805916981 and parameters: {'expected_return_model': 'exp_weighted', 'risk_model': 'exp_weighted', 'reg_gamma': 3, 'returns_span': 280, 'cov_span': 337}. Best is trial 28 with value: -6.0866689904745535.\u001b[0m\n",
      "\u001b[32m[I 2023-03-08 04:17:47,835]\u001b[0m Trial 46 finished with value: -4.535946269943271 and parameters: {'expected_return_model': 'exp_weighted', 'risk_model': 'exp_weighted', 'reg_gamma': 2, 'returns_span': 271, 'cov_span': 349}. Best is trial 28 with value: -6.0866689904745535.\u001b[0m\n",
      "\u001b[32m[I 2023-03-08 04:17:47,970]\u001b[0m Trial 48 finished with value: -4.631902207361679 and parameters: {'expected_return_model': 'exp_weighted', 'risk_model': 'exp_weighted', 'reg_gamma': 3, 'returns_span': 252, 'cov_span': 361}. Best is trial 28 with value: -6.0866689904745535.\u001b[0m\n"
     ]
    },
    {
     "name": "stdout",
     "output_type": "stream",
     "text": [
      "Validation sharpe ratio: -4.417722805916981\n",
      "Validation sharpe ratio: -4.535946269943271\n",
      "Validation sharpe ratio: -4.631902207361679\n"
     ]
    },
    {
     "name": "stderr",
     "output_type": "stream",
     "text": [
      "\u001b[32m[I 2023-03-08 04:17:48,181]\u001b[0m Trial 49 finished with value: -4.622620239993569 and parameters: {'expected_return_model': 'exp_weighted', 'risk_model': 'exp_weighted', 'reg_gamma': 2, 'returns_span': 264, 'cov_span': 339}. Best is trial 28 with value: -6.0866689904745535.\u001b[0m\n"
     ]
    },
    {
     "name": "stdout",
     "output_type": "stream",
     "text": [
      "Validation sharpe ratio: -4.622620239993569\n"
     ]
    }
   ],
   "source": [
    "# Create the study object\n",
    "study = optuna.create_study(\n",
    "    sampler=optuna.samplers.TPESampler(), \n",
    "    study_name='min_neg_sharpe', \n",
    "    direction='minimize', \n",
    "    pruner=optuna.pruners.HyperbandPruner() # Prune unpromising trials\n",
    ")\n",
    "study.optimize(objective, n_trials=50, n_jobs=-1)"
   ]
  },
  {
   "cell_type": "code",
   "execution_count": 291,
   "metadata": {},
   "outputs": [
    {
     "data": {
      "application/vnd.plotly.v1+json": {
       "config": {
        "plotlyServerURL": "https://plot.ly"
       },
       "data": [
        {
         "mode": "markers",
         "name": "Objective Value",
         "type": "scatter",
         "x": [
          0,
          1,
          2,
          3,
          4,
          5,
          6,
          7,
          8,
          9,
          10,
          11,
          12,
          13,
          14,
          15,
          16,
          17,
          18,
          19,
          20,
          21,
          22,
          23,
          24,
          25,
          26,
          27,
          28,
          29,
          30,
          31,
          32,
          33,
          34,
          35,
          36,
          37,
          38,
          39,
          40,
          41,
          42,
          43,
          44,
          45,
          46,
          47,
          48,
          49
         ],
         "y": [
          -3.540258823286463,
          null,
          null,
          -3.676238056484164,
          null,
          null,
          null,
          -4.236145394488122,
          null,
          -3.2101286839580303,
          -3.075711109154586,
          null,
          -4.423904728454512,
          null,
          -4.241801381531044,
          -3.882701280727991,
          null,
          -4.400894264842051,
          -4.512782446649576,
          -5.036246951041608,
          -6.013670290425231,
          -5.705488394129832,
          -5.778177352473223,
          -5.384838943738965,
          -4.989511875152396,
          -4.977211708885045,
          -5.16124453100212,
          -5.095248640336799,
          -6.0866689904745535,
          -6.0328697713287704,
          -6.048334342705279,
          -4.282499625727314,
          -4.196668390375766,
          -4.383844770927426,
          -4.274946570122634,
          -4.348326221727151,
          -4.134953301859817,
          -4.023330052830532,
          -4.108824544366661,
          -4.557470494701696,
          -4.49969881464256,
          -4.6209444707094205,
          -4.508327213337082,
          -4.529260074891959,
          -4.545168571584023,
          -4.417722805916981,
          -4.535946269943271,
          null,
          -4.631902207361679,
          -4.622620239993569
         ]
        },
        {
         "name": "Best Value",
         "type": "scatter",
         "x": [
          0,
          1,
          2,
          3,
          4,
          5,
          6,
          7,
          8,
          9,
          10,
          11,
          12,
          13,
          14,
          15,
          16,
          17,
          18,
          19,
          20,
          21,
          22,
          23,
          24,
          25,
          26,
          27,
          28,
          29,
          30,
          31,
          32,
          33,
          34,
          35,
          36,
          37,
          38,
          39,
          40,
          41,
          42,
          43,
          44,
          45,
          46,
          47,
          48,
          49
         ],
         "y": [
          -3.540258823286463,
          -3.540258823286463,
          -3.540258823286463,
          -3.676238056484164,
          -3.676238056484164,
          -3.676238056484164,
          -3.676238056484164,
          -4.236145394488122,
          -4.236145394488122,
          -4.236145394488122,
          -4.236145394488122,
          -4.236145394488122,
          -4.423904728454512,
          -4.423904728454512,
          -4.423904728454512,
          -4.423904728454512,
          -4.423904728454512,
          -4.423904728454512,
          -4.512782446649576,
          -5.036246951041608,
          -6.013670290425231,
          -6.013670290425231,
          -6.013670290425231,
          -6.013670290425231,
          -6.013670290425231,
          -6.013670290425231,
          -6.013670290425231,
          -6.013670290425231,
          -6.0866689904745535,
          -6.0866689904745535,
          -6.0866689904745535,
          -6.0866689904745535,
          -6.0866689904745535,
          -6.0866689904745535,
          -6.0866689904745535,
          -6.0866689904745535,
          -6.0866689904745535,
          -6.0866689904745535,
          -6.0866689904745535,
          -6.0866689904745535,
          -6.0866689904745535,
          -6.0866689904745535,
          -6.0866689904745535,
          -6.0866689904745535,
          -6.0866689904745535,
          -6.0866689904745535,
          -6.0866689904745535,
          -6.0866689904745535,
          -6.0866689904745535,
          -6.0866689904745535
         ]
        }
       ],
       "layout": {
        "template": {
         "data": {
          "bar": [
           {
            "error_x": {
             "color": "#2a3f5f"
            },
            "error_y": {
             "color": "#2a3f5f"
            },
            "marker": {
             "line": {
              "color": "#E5ECF6",
              "width": 0.5
             },
             "pattern": {
              "fillmode": "overlay",
              "size": 10,
              "solidity": 0.2
             }
            },
            "type": "bar"
           }
          ],
          "barpolar": [
           {
            "marker": {
             "line": {
              "color": "#E5ECF6",
              "width": 0.5
             },
             "pattern": {
              "fillmode": "overlay",
              "size": 10,
              "solidity": 0.2
             }
            },
            "type": "barpolar"
           }
          ],
          "carpet": [
           {
            "aaxis": {
             "endlinecolor": "#2a3f5f",
             "gridcolor": "white",
             "linecolor": "white",
             "minorgridcolor": "white",
             "startlinecolor": "#2a3f5f"
            },
            "baxis": {
             "endlinecolor": "#2a3f5f",
             "gridcolor": "white",
             "linecolor": "white",
             "minorgridcolor": "white",
             "startlinecolor": "#2a3f5f"
            },
            "type": "carpet"
           }
          ],
          "choropleth": [
           {
            "colorbar": {
             "outlinewidth": 0,
             "ticks": ""
            },
            "type": "choropleth"
           }
          ],
          "contour": [
           {
            "colorbar": {
             "outlinewidth": 0,
             "ticks": ""
            },
            "colorscale": [
             [
              0,
              "#0d0887"
             ],
             [
              0.1111111111111111,
              "#46039f"
             ],
             [
              0.2222222222222222,
              "#7201a8"
             ],
             [
              0.3333333333333333,
              "#9c179e"
             ],
             [
              0.4444444444444444,
              "#bd3786"
             ],
             [
              0.5555555555555556,
              "#d8576b"
             ],
             [
              0.6666666666666666,
              "#ed7953"
             ],
             [
              0.7777777777777778,
              "#fb9f3a"
             ],
             [
              0.8888888888888888,
              "#fdca26"
             ],
             [
              1,
              "#f0f921"
             ]
            ],
            "type": "contour"
           }
          ],
          "contourcarpet": [
           {
            "colorbar": {
             "outlinewidth": 0,
             "ticks": ""
            },
            "type": "contourcarpet"
           }
          ],
          "heatmap": [
           {
            "colorbar": {
             "outlinewidth": 0,
             "ticks": ""
            },
            "colorscale": [
             [
              0,
              "#0d0887"
             ],
             [
              0.1111111111111111,
              "#46039f"
             ],
             [
              0.2222222222222222,
              "#7201a8"
             ],
             [
              0.3333333333333333,
              "#9c179e"
             ],
             [
              0.4444444444444444,
              "#bd3786"
             ],
             [
              0.5555555555555556,
              "#d8576b"
             ],
             [
              0.6666666666666666,
              "#ed7953"
             ],
             [
              0.7777777777777778,
              "#fb9f3a"
             ],
             [
              0.8888888888888888,
              "#fdca26"
             ],
             [
              1,
              "#f0f921"
             ]
            ],
            "type": "heatmap"
           }
          ],
          "heatmapgl": [
           {
            "colorbar": {
             "outlinewidth": 0,
             "ticks": ""
            },
            "colorscale": [
             [
              0,
              "#0d0887"
             ],
             [
              0.1111111111111111,
              "#46039f"
             ],
             [
              0.2222222222222222,
              "#7201a8"
             ],
             [
              0.3333333333333333,
              "#9c179e"
             ],
             [
              0.4444444444444444,
              "#bd3786"
             ],
             [
              0.5555555555555556,
              "#d8576b"
             ],
             [
              0.6666666666666666,
              "#ed7953"
             ],
             [
              0.7777777777777778,
              "#fb9f3a"
             ],
             [
              0.8888888888888888,
              "#fdca26"
             ],
             [
              1,
              "#f0f921"
             ]
            ],
            "type": "heatmapgl"
           }
          ],
          "histogram": [
           {
            "marker": {
             "pattern": {
              "fillmode": "overlay",
              "size": 10,
              "solidity": 0.2
             }
            },
            "type": "histogram"
           }
          ],
          "histogram2d": [
           {
            "colorbar": {
             "outlinewidth": 0,
             "ticks": ""
            },
            "colorscale": [
             [
              0,
              "#0d0887"
             ],
             [
              0.1111111111111111,
              "#46039f"
             ],
             [
              0.2222222222222222,
              "#7201a8"
             ],
             [
              0.3333333333333333,
              "#9c179e"
             ],
             [
              0.4444444444444444,
              "#bd3786"
             ],
             [
              0.5555555555555556,
              "#d8576b"
             ],
             [
              0.6666666666666666,
              "#ed7953"
             ],
             [
              0.7777777777777778,
              "#fb9f3a"
             ],
             [
              0.8888888888888888,
              "#fdca26"
             ],
             [
              1,
              "#f0f921"
             ]
            ],
            "type": "histogram2d"
           }
          ],
          "histogram2dcontour": [
           {
            "colorbar": {
             "outlinewidth": 0,
             "ticks": ""
            },
            "colorscale": [
             [
              0,
              "#0d0887"
             ],
             [
              0.1111111111111111,
              "#46039f"
             ],
             [
              0.2222222222222222,
              "#7201a8"
             ],
             [
              0.3333333333333333,
              "#9c179e"
             ],
             [
              0.4444444444444444,
              "#bd3786"
             ],
             [
              0.5555555555555556,
              "#d8576b"
             ],
             [
              0.6666666666666666,
              "#ed7953"
             ],
             [
              0.7777777777777778,
              "#fb9f3a"
             ],
             [
              0.8888888888888888,
              "#fdca26"
             ],
             [
              1,
              "#f0f921"
             ]
            ],
            "type": "histogram2dcontour"
           }
          ],
          "mesh3d": [
           {
            "colorbar": {
             "outlinewidth": 0,
             "ticks": ""
            },
            "type": "mesh3d"
           }
          ],
          "parcoords": [
           {
            "line": {
             "colorbar": {
              "outlinewidth": 0,
              "ticks": ""
             }
            },
            "type": "parcoords"
           }
          ],
          "pie": [
           {
            "automargin": true,
            "type": "pie"
           }
          ],
          "scatter": [
           {
            "fillpattern": {
             "fillmode": "overlay",
             "size": 10,
             "solidity": 0.2
            },
            "type": "scatter"
           }
          ],
          "scatter3d": [
           {
            "line": {
             "colorbar": {
              "outlinewidth": 0,
              "ticks": ""
             }
            },
            "marker": {
             "colorbar": {
              "outlinewidth": 0,
              "ticks": ""
             }
            },
            "type": "scatter3d"
           }
          ],
          "scattercarpet": [
           {
            "marker": {
             "colorbar": {
              "outlinewidth": 0,
              "ticks": ""
             }
            },
            "type": "scattercarpet"
           }
          ],
          "scattergeo": [
           {
            "marker": {
             "colorbar": {
              "outlinewidth": 0,
              "ticks": ""
             }
            },
            "type": "scattergeo"
           }
          ],
          "scattergl": [
           {
            "marker": {
             "colorbar": {
              "outlinewidth": 0,
              "ticks": ""
             }
            },
            "type": "scattergl"
           }
          ],
          "scattermapbox": [
           {
            "marker": {
             "colorbar": {
              "outlinewidth": 0,
              "ticks": ""
             }
            },
            "type": "scattermapbox"
           }
          ],
          "scatterpolar": [
           {
            "marker": {
             "colorbar": {
              "outlinewidth": 0,
              "ticks": ""
             }
            },
            "type": "scatterpolar"
           }
          ],
          "scatterpolargl": [
           {
            "marker": {
             "colorbar": {
              "outlinewidth": 0,
              "ticks": ""
             }
            },
            "type": "scatterpolargl"
           }
          ],
          "scatterternary": [
           {
            "marker": {
             "colorbar": {
              "outlinewidth": 0,
              "ticks": ""
             }
            },
            "type": "scatterternary"
           }
          ],
          "surface": [
           {
            "colorbar": {
             "outlinewidth": 0,
             "ticks": ""
            },
            "colorscale": [
             [
              0,
              "#0d0887"
             ],
             [
              0.1111111111111111,
              "#46039f"
             ],
             [
              0.2222222222222222,
              "#7201a8"
             ],
             [
              0.3333333333333333,
              "#9c179e"
             ],
             [
              0.4444444444444444,
              "#bd3786"
             ],
             [
              0.5555555555555556,
              "#d8576b"
             ],
             [
              0.6666666666666666,
              "#ed7953"
             ],
             [
              0.7777777777777778,
              "#fb9f3a"
             ],
             [
              0.8888888888888888,
              "#fdca26"
             ],
             [
              1,
              "#f0f921"
             ]
            ],
            "type": "surface"
           }
          ],
          "table": [
           {
            "cells": {
             "fill": {
              "color": "#EBF0F8"
             },
             "line": {
              "color": "white"
             }
            },
            "header": {
             "fill": {
              "color": "#C8D4E3"
             },
             "line": {
              "color": "white"
             }
            },
            "type": "table"
           }
          ]
         },
         "layout": {
          "annotationdefaults": {
           "arrowcolor": "#2a3f5f",
           "arrowhead": 0,
           "arrowwidth": 1
          },
          "autotypenumbers": "strict",
          "coloraxis": {
           "colorbar": {
            "outlinewidth": 0,
            "ticks": ""
           }
          },
          "colorscale": {
           "diverging": [
            [
             0,
             "#8e0152"
            ],
            [
             0.1,
             "#c51b7d"
            ],
            [
             0.2,
             "#de77ae"
            ],
            [
             0.3,
             "#f1b6da"
            ],
            [
             0.4,
             "#fde0ef"
            ],
            [
             0.5,
             "#f7f7f7"
            ],
            [
             0.6,
             "#e6f5d0"
            ],
            [
             0.7,
             "#b8e186"
            ],
            [
             0.8,
             "#7fbc41"
            ],
            [
             0.9,
             "#4d9221"
            ],
            [
             1,
             "#276419"
            ]
           ],
           "sequential": [
            [
             0,
             "#0d0887"
            ],
            [
             0.1111111111111111,
             "#46039f"
            ],
            [
             0.2222222222222222,
             "#7201a8"
            ],
            [
             0.3333333333333333,
             "#9c179e"
            ],
            [
             0.4444444444444444,
             "#bd3786"
            ],
            [
             0.5555555555555556,
             "#d8576b"
            ],
            [
             0.6666666666666666,
             "#ed7953"
            ],
            [
             0.7777777777777778,
             "#fb9f3a"
            ],
            [
             0.8888888888888888,
             "#fdca26"
            ],
            [
             1,
             "#f0f921"
            ]
           ],
           "sequentialminus": [
            [
             0,
             "#0d0887"
            ],
            [
             0.1111111111111111,
             "#46039f"
            ],
            [
             0.2222222222222222,
             "#7201a8"
            ],
            [
             0.3333333333333333,
             "#9c179e"
            ],
            [
             0.4444444444444444,
             "#bd3786"
            ],
            [
             0.5555555555555556,
             "#d8576b"
            ],
            [
             0.6666666666666666,
             "#ed7953"
            ],
            [
             0.7777777777777778,
             "#fb9f3a"
            ],
            [
             0.8888888888888888,
             "#fdca26"
            ],
            [
             1,
             "#f0f921"
            ]
           ]
          },
          "colorway": [
           "#636efa",
           "#EF553B",
           "#00cc96",
           "#ab63fa",
           "#FFA15A",
           "#19d3f3",
           "#FF6692",
           "#B6E880",
           "#FF97FF",
           "#FECB52"
          ],
          "font": {
           "color": "#2a3f5f"
          },
          "geo": {
           "bgcolor": "white",
           "lakecolor": "white",
           "landcolor": "#E5ECF6",
           "showlakes": true,
           "showland": true,
           "subunitcolor": "white"
          },
          "hoverlabel": {
           "align": "left"
          },
          "hovermode": "closest",
          "mapbox": {
           "style": "light"
          },
          "paper_bgcolor": "white",
          "plot_bgcolor": "#E5ECF6",
          "polar": {
           "angularaxis": {
            "gridcolor": "white",
            "linecolor": "white",
            "ticks": ""
           },
           "bgcolor": "#E5ECF6",
           "radialaxis": {
            "gridcolor": "white",
            "linecolor": "white",
            "ticks": ""
           }
          },
          "scene": {
           "xaxis": {
            "backgroundcolor": "#E5ECF6",
            "gridcolor": "white",
            "gridwidth": 2,
            "linecolor": "white",
            "showbackground": true,
            "ticks": "",
            "zerolinecolor": "white"
           },
           "yaxis": {
            "backgroundcolor": "#E5ECF6",
            "gridcolor": "white",
            "gridwidth": 2,
            "linecolor": "white",
            "showbackground": true,
            "ticks": "",
            "zerolinecolor": "white"
           },
           "zaxis": {
            "backgroundcolor": "#E5ECF6",
            "gridcolor": "white",
            "gridwidth": 2,
            "linecolor": "white",
            "showbackground": true,
            "ticks": "",
            "zerolinecolor": "white"
           }
          },
          "shapedefaults": {
           "line": {
            "color": "#2a3f5f"
           }
          },
          "ternary": {
           "aaxis": {
            "gridcolor": "white",
            "linecolor": "white",
            "ticks": ""
           },
           "baxis": {
            "gridcolor": "white",
            "linecolor": "white",
            "ticks": ""
           },
           "bgcolor": "#E5ECF6",
           "caxis": {
            "gridcolor": "white",
            "linecolor": "white",
            "ticks": ""
           }
          },
          "title": {
           "x": 0.05
          },
          "xaxis": {
           "automargin": true,
           "gridcolor": "white",
           "linecolor": "white",
           "ticks": "",
           "title": {
            "standoff": 15
           },
           "zerolinecolor": "white",
           "zerolinewidth": 2
          },
          "yaxis": {
           "automargin": true,
           "gridcolor": "white",
           "linecolor": "white",
           "ticks": "",
           "title": {
            "standoff": 15
           },
           "zerolinecolor": "white",
           "zerolinewidth": 2
          }
         }
        },
        "title": {
         "text": "Optimization History Plot"
        },
        "xaxis": {
         "title": {
          "text": "Trial"
         }
        },
        "yaxis": {
         "title": {
          "text": "Objective Value"
         }
        }
       }
      }
     },
     "metadata": {},
     "output_type": "display_data"
    }
   ],
   "source": [
    "# Plot the optimization history\n",
    "optuna.visualization.plot_optimization_history(study)"
   ]
  },
  {
   "attachments": {},
   "cell_type": "markdown",
   "metadata": {},
   "source": [
    "## Tuned Portfolio Strategy"
   ]
  },
  {
   "cell_type": "code",
   "execution_count": 292,
   "metadata": {},
   "outputs": [
    {
     "data": {
      "text/plain": [
       "{'expected_return_model': 'exp_weighted',\n",
       " 'risk_model': 'exp_weighted',\n",
       " 'reg_gamma': 3,\n",
       " 'returns_span': 201,\n",
       " 'cov_span': 209}"
      ]
     },
     "execution_count": 292,
     "metadata": {},
     "output_type": "execute_result"
    }
   ],
   "source": [
    "study.best_params"
   ]
  },
  {
   "attachments": {},
   "cell_type": "markdown",
   "metadata": {},
   "source": [
    "As can be seen, the tuned portfolio strategy includes:\n",
    "\n",
    "* Exponentially weighted returns with a span of 201 days\n",
    "\n",
    "* Exponentially weighted covariance matrix with a span of 209 days\n",
    "\n",
    "* L2 regularization with gamma equaling 3"
   ]
  },
  {
   "cell_type": "code",
   "execution_count": 315,
   "metadata": {},
   "outputs": [],
   "source": [
    "# Returns and risk models\n",
    "returns_models = {}\n",
    "risk_models = {}\n",
    "for sample, data in zip(['train', 'val', 'test'], [in_sample_data_train, in_sample_data_val, out_sample_data]):\n",
    "    \n",
    "    returns_models[sample] = ema_historical_return(\n",
    "        prices=data,\n",
    "        span=study.best_params['returns_span'],\n",
    "        returns_data=False,\n",
    "        frequency=252,\n",
    "        compounding=True\n",
    "    )\n",
    "    \n",
    "    risk_models[sample] = fix_nonpositive_semidefinite(\n",
    "        exp_cov(\n",
    "            prices=data,\n",
    "            returns_data=False,\n",
    "            span=study.best_params['cov_span'],\n",
    "            frequency=252\n",
    "        )\n",
    "    )"
   ]
  },
  {
   "cell_type": "code",
   "execution_count": 316,
   "metadata": {},
   "outputs": [],
   "source": [
    "# Create the optimization model\n",
    "markowitz_model = EfficientFrontier(\n",
    "    expected_returns=returns_models['train'].to_numpy().flatten(),\n",
    "    cov_matrix=risk_models['train'],\n",
    "    weight_bounds=(0, 1), # Assume fully invested portfolio\n",
    "    solver=None # Use cvxpy’s default choice of solver\n",
    ")\n",
    "\n",
    "# Add sector constraints (the sector_mappings dictionary is scoped from the enclosing environment)\n",
    "markowitz_model.add_sector_constraints(\n",
    "    sector_mapper=sector_mappings, \n",
    "    sector_lower={'Technology': 0.1}, # At least 10% of the portfolio should be invested in the Technology sector\n",
    "    sector_upper={'Technology': 0.3} # At most 30% of the portfolio should be invested in the Technology sector\n",
    ")\n",
    "\n",
    "# Add the regularization term (tuning gamma i.e., the higher the value of gamma, the more non-negligible weights)\n",
    "markowitz_model.add_objective(objective_functions.L2_reg, gamma=study.best_params['reg_gamma'])"
   ]
  },
  {
   "attachments": {},
   "cell_type": "markdown",
   "metadata": {},
   "source": [
    "Plot the efficient frontier:"
   ]
  },
  {
   "cell_type": "code",
   "execution_count": 317,
   "metadata": {},
   "outputs": [
    {
     "data": {
      "image/png": "[encoded data removed]",
      "text/plain": [
       "<Figure size 1200x1000 with 1 Axes>"
      ]
     },
     "metadata": {},
     "output_type": "display_data"
    }
   ],
   "source": [
    "ut.custom_efficient_frontier(markowitz_model);"
   ]
  },
  {
   "attachments": {},
   "cell_type": "markdown",
   "metadata": {},
   "source": [
    "Optimize for sharpe ratio and obtain the optimal weights:"
   ]
  },
  {
   "cell_type": "code",
   "execution_count": 318,
   "metadata": {},
   "outputs": [
    {
     "data": {
      "text/plain": [
       "OrderedDict([('AAPL', 0.0),\n",
       "             ('AMZN', 0.0348729677383076),\n",
       "             ('BIIB', 0.0),\n",
       "             ('CMCSA', 0.0),\n",
       "             ('CME', 0.0),\n",
       "             ('COST', 0.0),\n",
       "             ('CSCO', 0.0),\n",
       "             ('EA', 0.0),\n",
       "             ('EBAY', 0.0609208582493061),\n",
       "             ('GOOG', 0.0),\n",
       "             ('HD', 0.0),\n",
       "             ('HON', 0.0),\n",
       "             ('INTC', 0.0),\n",
       "             ('JPM', 0.0),\n",
       "             ('LULU', 0.0137639209135602),\n",
       "             ('META', 0.0),\n",
       "             ('MSFT', 0.0),\n",
       "             ('NFLX', 0.0),\n",
       "             ('NVDA', 0.0861977375500128),\n",
       "             ('ORLY', 0.0),\n",
       "             ('PEP', 0.0),\n",
       "             ('PFE', 0.0),\n",
       "             ('PYPL', 0.0842235418258415),\n",
       "             ('QCOM', 0.0),\n",
       "             ('SBUX', 0.0),\n",
       "             ('TSLA', 0.7200209737229717),\n",
       "             ('TXN', 0.0),\n",
       "             ('VRTX', 0.0),\n",
       "             ('WDAY', 0.0),\n",
       "             ('XEL', 0.0)])"
      ]
     },
     "execution_count": 318,
     "metadata": {},
     "output_type": "execute_result"
    }
   ],
   "source": [
    "optimal_weights = markowitz_model.max_sharpe(risk_free_rate=rate_16m)\n",
    "optimal_weights_array = np.array(list(optimal_weights.values()))\n",
    "optimal_weights"
   ]
  },
  {
   "cell_type": "code",
   "execution_count": 319,
   "metadata": {},
   "outputs": [
    {
     "name": "stdout",
     "output_type": "stream",
     "text": [
      "Return: 6.4466\n",
      "Risk: 0.6623\n",
      "Sharpe Ratio: 8.7035\n"
     ]
    }
   ],
   "source": [
    "# In sample performance\n",
    "train_performance = markowitz_model.portfolio_performance(risk_free_rate=rate_16m)\n",
    "for metric, value in zip(['Return', 'Risk', 'Sharpe Ratio'], train_performance):\n",
    "    print(f'{metric}: {round(value, 4)}')"
   ]
  },
  {
   "cell_type": "code",
   "execution_count": 320,
   "metadata": {},
   "outputs": [
    {
     "name": "stdout",
     "output_type": "stream",
     "text": [
      "Return: 3.0851\n",
      "Risk: 0.3948\n",
      "Sharpe Ratio: 6.0867\n"
     ]
    }
   ],
   "source": [
    "val_performance = base_optimizer.portfolio_performance(\n",
    "    weights=optimal_weights,\n",
    "    expected_returns=returns_models['val'].to_numpy().flatten(),\n",
    "    cov_matrix=risk_models['val'],\n",
    "    risk_free_rate=rate_16m\n",
    ")\n",
    "for metric, value in zip(['Return', 'Risk', 'Sharpe Ratio'], val_performance):\n",
    "    print(f'{metric}: {round(value, 4)}')"
   ]
  },
  {
   "cell_type": "code",
   "execution_count": 321,
   "metadata": {},
   "outputs": [
    {
     "name": "stdout",
     "output_type": "stream",
     "text": [
      "Return: 0.1374\n",
      "Risk: 0.5733\n",
      "Sharpe Ratio: -0.9498\n"
     ]
    }
   ],
   "source": [
    "test_performance = base_optimizer.portfolio_performance(\n",
    "    weights=optimal_weights,\n",
    "    expected_returns=returns_models['test'].to_numpy().flatten(),\n",
    "    cov_matrix=risk_models['test'],\n",
    "    risk_free_rate=rate_16m\n",
    ")\n",
    "for metric, value in zip(['Return', 'Risk', 'Sharpe Ratio'], test_performance):\n",
    "    print(f'{metric}: {round(value, 4)}')"
   ]
  },
  {
   "attachments": {},
   "cell_type": "markdown",
   "metadata": {},
   "source": [
    "### Benchmark Performance"
   ]
  },
  {
   "cell_type": "code",
   "execution_count": 327,
   "metadata": {},
   "outputs": [
    {
     "data": {
      "text/plain": [
       "('2016-11-08', '2020-07-02')"
      ]
     },
     "execution_count": 327,
     "metadata": {},
     "output_type": "execute_result"
    },
    {
     "data": {
      "text/plain": [
       "('2020-07-06', '2021-11-05')"
      ]
     },
     "execution_count": 327,
     "metadata": {},
     "output_type": "execute_result"
    },
    {
     "data": {
      "text/plain": [
       "('2021-11-08', '2023-03-07')"
      ]
     },
     "execution_count": 327,
     "metadata": {},
     "output_type": "execute_result"
    }
   ],
   "source": [
    "# Train, validation, and test sets\n",
    "nasdaq_train = nasdaq.loc[:split_date.strftime('%Y-%m-%d')]\n",
    "nasdaq_val = nasdaq.loc[split_date.strftime('%Y-%m-%d'):in_sample_data.index.max().strftime('%Y-%m-%d')]\n",
    "nasdaq_test = nasdaq.loc[out_sample_data.index.min().strftime('%Y-%m-%d'):]\n",
    "\n",
    "(nasdaq_train.index.min(), nasdaq_train.index.max())\n",
    "(nasdaq_val.index.min(), nasdaq_val.index.max())\n",
    "(nasdaq_test.index.min(), nasdaq_test.index.max())"
   ]
  },
  {
   "cell_type": "code",
   "execution_count": 337,
   "metadata": {},
   "outputs": [],
   "source": [
    "nasdaq_returns = {}\n",
    "nasdaq_risk = {}\n",
    "sharpe_ratios = {}\n",
    "\n",
    "for sample, data in zip(['train', 'val', 'test'], [nasdaq_train, nasdaq_val, nasdaq_test]):\n",
    "    nasdaq_returns[sample] = ema_historical_return(\n",
    "        prices=data,\n",
    "        span=study.best_params['returns_span'],\n",
    "        returns_data=False,\n",
    "        frequency=252,\n",
    "        compounding=True\n",
    "    )\n",
    "    \n",
    "    nasdaq_risk[sample] = fix_nonpositive_semidefinite(\n",
    "        exp_cov(\n",
    "            prices=data,\n",
    "            returns_data=False,\n",
    "            span=study.best_params['cov_span'],\n",
    "            frequency=252\n",
    "        )\n",
    "    )['Adj Close']\n",
    "    \n",
    "    sharpe_ratios[sample] = (nasdaq_returns[sample] - rate_16m) / nasdaq_risk[sample]"
   ]
  },
  {
   "cell_type": "code",
   "execution_count": 338,
   "metadata": {},
   "outputs": [
    {
     "name": "stdout",
     "output_type": "stream",
     "text": [
      "Nasdaq train returns: 0.66\n",
      "Nasdaq val returns: 0.4568\n",
      "Nasdaq test returns: 0.0342\n"
     ]
    }
   ],
   "source": [
    "for sample in ['train', 'val', 'test']:\n",
    "    print(f'Nasdaq {sample} returns: {round(nasdaq_returns[sample].values[0], 4)}')"
   ]
  },
  {
   "cell_type": "code",
   "execution_count": 339,
   "metadata": {},
   "outputs": [
    {
     "name": "stdout",
     "output_type": "stream",
     "text": [
      "Nasdaq train volatility: 0.1355\n",
      "Nasdaq val volatility: 0.0273\n",
      "Nasdaq test volatility: 0.0833\n"
     ]
    }
   ],
   "source": [
    "for sample in ['train', 'val', 'test']:\n",
    "    print(f'Nasdaq {sample} volatility: {round(nasdaq_risk[sample].values[0], 4)}')"
   ]
  },
  {
   "cell_type": "code",
   "execution_count": 340,
   "metadata": {},
   "outputs": [
    {
     "name": "stdout",
     "output_type": "stream",
     "text": [
      "Nasdaq train sharpe ratio: -0.1626\n",
      "Nasdaq val sharpe ratio: -8.2475\n",
      "Nasdaq test sharpe ratio: -7.7765\n"
     ]
    }
   ],
   "source": [
    "for sample in ['train', 'val', 'test']:\n",
    "    print(f'Nasdaq {sample} sharpe ratio: {round(sharpe_ratios[sample].values[0], 4)}')"
   ]
  },
  {
   "attachments": {},
   "cell_type": "markdown",
   "metadata": {},
   "source": [
    "## Post Processing"
   ]
  },
  {
   "cell_type": "code",
   "execution_count": 382,
   "metadata": {},
   "outputs": [
    {
     "data": {
      "text/plain": [
       "AAPL     110.5914\n",
       "AMZN     133.7126\n",
       "BIIB      76.4743\n",
       "CMCSA     60.0465\n",
       "CME      177.4429\n",
       "dtype: float64"
      ]
     },
     "execution_count": 382,
     "metadata": {},
     "output_type": "execute_result"
    }
   ],
   "source": [
    "# Create a random vector of prices (we may change the stocks later and so we will look up the prices then)\n",
    "lastest_prices = pd.Series(np.random.uniform(50, 200, size=30).round(4), index=returns_models['train'].index)\n",
    "lastest_prices.head(5)"
   ]
  },
  {
   "cell_type": "code",
   "execution_count": 384,
   "metadata": {},
   "outputs": [],
   "source": [
    "# Instantiate a instance of DiscreteAllocation\n",
    "da = DiscreteAllocation(\n",
    "    weights=optimal_weights,\n",
    "    latest_prices=lastest_prices,\n",
    "    total_portfolio_value=62556\n",
    ")"
   ]
  },
  {
   "cell_type": "code",
   "execution_count": 385,
   "metadata": {},
   "outputs": [
    {
     "data": {
      "text/plain": [
       "({'AMZN': 16, 'EBAY': 25, 'LULU': 12, 'NVDA': 85, 'PYPL': 38, 'TSLA': 630},\n",
       " 65.89886812993063)"
      ]
     },
     "execution_count": 385,
     "metadata": {},
     "output_type": "execute_result"
    }
   ],
   "source": [
    "# Solve integer programming problem\n",
    "allocations = da.lp_portfolio(reinvest=False)\n",
    "allocations"
   ]
  },
  {
   "cell_type": "code",
   "execution_count": 386,
   "metadata": {},
   "outputs": [
    {
     "name": "stdout",
     "output_type": "stream",
     "text": [
      "AAPL: allocated 0.000, desired 0.000\n",
      "AMZN: allocated 0.034, desired 0.035\n",
      "BIIB: allocated 0.000, desired 0.000\n",
      "CMCSA: allocated 0.000, desired 0.000\n",
      "CME: allocated 0.000, desired 0.000\n",
      "COST: allocated 0.000, desired 0.000\n",
      "CSCO: allocated 0.000, desired 0.000\n",
      "EA: allocated 0.000, desired 0.000\n",
      "EBAY: allocated 0.061, desired 0.061\n",
      "GOOG: allocated 0.000, desired 0.000\n",
      "HD: allocated 0.000, desired 0.000\n",
      "HON: allocated 0.000, desired 0.000\n",
      "INTC: allocated 0.000, desired 0.000\n",
      "JPM: allocated 0.000, desired 0.000\n",
      "LULU: allocated 0.014, desired 0.014\n",
      "META: allocated 0.000, desired 0.000\n",
      "MSFT: allocated 0.000, desired 0.000\n",
      "NFLX: allocated 0.000, desired 0.000\n",
      "NVDA: allocated 0.086, desired 0.086\n",
      "ORLY: allocated 0.000, desired 0.000\n",
      "PEP: allocated 0.000, desired 0.000\n",
      "PFE: allocated 0.000, desired 0.000\n",
      "PYPL: allocated 0.084, desired 0.084\n",
      "QCOM: allocated 0.000, desired 0.000\n",
      "SBUX: allocated 0.000, desired 0.000\n",
      "TSLA: allocated 0.721, desired 0.720\n",
      "TXN: allocated 0.000, desired 0.000\n",
      "VRTX: allocated 0.000, desired 0.000\n",
      "WDAY: allocated 0.000, desired 0.000\n",
      "XEL: allocated 0.000, desired 0.000\n",
      "Allocation has RMSE: 0.000\n"
     ]
    },
    {
     "data": {
      "text/plain": [
       "0.00024390161463859431"
      ]
     },
     "execution_count": 386,
     "metadata": {},
     "output_type": "execute_result"
    }
   ],
   "source": [
    "da._allocation_rmse_error()"
   ]
  }
 ],
 "metadata": {
  "kernelspec": {
   "display_name": "optimization_project",
   "language": "python",
   "name": "python3"
  },
  "language_info": {
   "codemirror_mode": {
    "name": "ipython",
    "version": 3
   },
   "file_extension": ".py",
   "mimetype": "text/x-python",
   "name": "python",
   "nbconvert_exporter": "python",
   "pygments_lexer": "ipython3",
   "version": "3.9.12"
  },
  "orig_nbformat": 4
 },
 "nbformat": 4,
 "nbformat_minor": 2
}
